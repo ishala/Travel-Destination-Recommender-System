{
 "cells": [
  {
   "cell_type": "markdown",
   "metadata": {},
   "source": [
    "# Catatan yang Diulik\n",
    "\n",
    "1. Modality Based, mempertimbangkan kolom rating, jumlah reviews, nama tempat, tipe wisata, Waktu buka, dan koordinat\n",
    "2. Interkoneksi antar tempat wisata, dengan mempertimbangkan nilai di user. Nilai yang dimaksud misal user A pernah merating berapa di tempat A, lalu telusuri dia pernah merating dimana saja. Nanti dijadikan identitas user yang digunakan untuk rekomendasi item, tapi soft recom, tidak user based.\n",
    "\n",
    "Catatan:\n",
    "- Untuk koordinat bisa coba ulik rumus **Haversine**\n",
    "- Poin ke 2, bisa pake konsep inputan baru ke model rekomendasi, jadi inputan nnti di cross calculation dari hasil rekomendasi dari poin 1.\n",
    "- Waktu membuka website atau waktu komputer dijadikan pertimbangan rekomendasi dari nilai waktu buka di data item."
   ]
  },
  {
   "cell_type": "code",
   "execution_count": null,
   "metadata": {},
   "outputs": [],
   "source": [
    "import pandas as pd\n",
    "from sklearn.feature_extraction.text import TfidfVectorizer\n",
    "from sklearn.preprocessing import StandardScaler\n",
    "from sklearn.metrics.pairwise import cosine_similarity\n",
    "from math import radians, sin, cos, sqrt, atan2\n",
    "from datetime import datetime\n",
    "from IPython.display import display\n",
    "\n",
    "fixedDf = pd.read_csv('data/fixedData.csv')\n",
    "fixedDf.info()"
   ]
  },
  {
   "cell_type": "code",
   "execution_count": null,
   "metadata": {},
   "outputs": [],
   "source": [
    "fixedDf.head()"
   ]
  },
  {
   "cell_type": "markdown",
   "metadata": {},
   "source": [
    "# Data Preparation"
   ]
  },
  {
   "cell_type": "markdown",
   "metadata": {},
   "source": [
    "## Standarisasi dan Normalisasi"
   ]
  },
  {
   "cell_type": "markdown",
   "metadata": {},
   "source": [
    "### Workday Timing"
   ]
  },
  {
   "cell_type": "code",
   "execution_count": null,
   "metadata": {},
   "outputs": [],
   "source": [
    "fixedDf.workday_timing.unique()"
   ]
  },
  {
   "cell_type": "markdown",
   "metadata": {},
   "source": [
    "## Rating"
   ]
  },
  {
   "cell_type": "code",
   "execution_count": 61,
   "metadata": {},
   "outputs": [],
   "source": [
    "# Standarisasi Kolom Rating Menggunakan Z-score\n",
    "scaler = StandardScaler()\n",
    "\n",
    "# Data 'rating' akan distandarisasi\n",
    "fixedDf['rating_scaled'] = scaler.fit_transform(fixedDf[['rating']])"
   ]
  },
  {
   "cell_type": "markdown",
   "metadata": {},
   "source": [
    "## Types"
   ]
  },
  {
   "cell_type": "markdown",
   "metadata": {},
   "source": [
    "# Model Development"
   ]
  },
  {
   "cell_type": "markdown",
   "metadata": {},
   "source": [
    "### Perhitungan Haversine (Coordinates)"
   ]
  },
  {
   "cell_type": "code",
   "execution_count": 62,
   "metadata": {},
   "outputs": [],
   "source": [
    "# Perhitungan jarak menggunakan rumus Haversine\n",
    "def haversine(lat1, lon1, lat2, lon2):\n",
    "    R = 6371.0  # Radius bumi dalam kilometer\n",
    "    lat1, lon1, lat2, lon2 = map(radians, [lat1, lon1, lat2, lon2])\n",
    "\n",
    "    dlat = lat2 - lat1\n",
    "    dlon = lon2 - lon1\n",
    "\n",
    "    a = sin(dlat / 2)**2 + cos(lat1) * cos(lat2) * sin(dlon / 2)**2\n",
    "    c = 2 * atan2(sqrt(a), sqrt(1 - a))\n",
    "\n",
    "    return R * c  # Hasil dalam kilometer"
   ]
  },
  {
   "cell_type": "code",
   "execution_count": 63,
   "metadata": {},
   "outputs": [],
   "source": [
    "# 2. Buat dataframe untuk wisata yang mirip secara lokasi\n",
    "def filter_by_coordinates(df, user_lat, user_lon, max_distance_km=10):\n",
    "    df['distance'] = df['coordinates'].apply(lambda coord: haversine(user_lat, user_lon, *map(float, coord.split(','))))\n",
    "    similar_places_df = df[df['distance'] <= max_distance_km]\n",
    "    \n",
    "    # Urutkan berdasarkan jarak terdekat\n",
    "    return similar_places_df.sort_values(by='distance', ascending=True)"
   ]
  },
  {
   "cell_type": "markdown",
   "metadata": {},
   "source": [
    "### Perhitungan Cosine Similarity"
   ]
  },
  {
   "cell_type": "code",
   "execution_count": 64,
   "metadata": {},
   "outputs": [],
   "source": [
    "# Modifikasi search_by_name untuk mengurutkan berdasarkan rating dan Cosine Sim\n",
    "def search_by_name(df, user_input):\n",
    "    tfidf_vectorizer = TfidfVectorizer()\n",
    "    tfidf_matrix = tfidf_vectorizer.fit_transform(df['name'])\n",
    "    user_input_tfidf = tfidf_vectorizer.transform([user_input])\n",
    "\n",
    "    cosine_sim = cosine_similarity(user_input_tfidf, tfidf_matrix)\n",
    "    df['similarity'] = cosine_sim[0]\n",
    "    \n",
    "    # Urutkan berdasarkan rating setelah similarity\n",
    "    df = df.sort_values(by=['similarity', 'rating'], ascending=[False, False])\n",
    "    \n",
    "    return df"
   ]
  },
  {
   "cell_type": "markdown",
   "metadata": {},
   "source": [
    "### Filterisasi Waktu Kerja (Working Day)"
   ]
  },
  {
   "cell_type": "code",
   "execution_count": 65,
   "metadata": {},
   "outputs": [],
   "source": [
    "# Filter berdasarkan waktu operasional (working days)\n",
    "def filter_by_workday(df, current_time):\n",
    "    def is_open(workday_timing, current_time):\n",
    "        if workday_timing == 'Not Present' or workday_timing == 'Closed':\n",
    "            return False\n",
    "        try:\n",
    "            open_time, close_time = workday_timing.split('-')\n",
    "            open_time = datetime.strptime(open_time.strip(), '%H.%M').time()\n",
    "            close_time = datetime.strptime(close_time.strip(), '%H.%M').time()\n",
    "            # Periksa apakah waktu sekarang berada dalam rentang waktu buka\n",
    "            return open_time <= current_time <= close_time\n",
    "        except:\n",
    "            return False\n",
    "\n",
    "    # Filter berdasarkan apakah tempat wisata sedang buka\n",
    "    df['is_open'] = df['workday_timing'].apply(lambda x: is_open(x, current_time))\n",
    "    \n",
    "    return df[df['is_open'] == True]"
   ]
  },
  {
   "cell_type": "markdown",
   "metadata": {},
   "source": [
    "### Filterisasi Tipe Wisata"
   ]
  },
  {
   "cell_type": "code",
   "execution_count": 66,
   "metadata": {},
   "outputs": [],
   "source": [
    "# Filter berdasarkan tipe tempat wisata\n",
    "def filter_by_type(df, selected_type):\n",
    "    return df[df['types'].str.contains(selected_type, case=False, na=False)]"
   ]
  },
  {
   "cell_type": "markdown",
   "metadata": {},
   "source": [
    "## Filterisasi Berdasarkan Jarak Terdekat\n"
   ]
  },
  {
   "cell_type": "code",
   "execution_count": 67,
   "metadata": {},
   "outputs": [],
   "source": [
    "# Fungsi untuk mencari tempat wisata terdekat setelah memilih salah satu\n",
    "def find_nearby_places(df, selected_place_lat, selected_place_lon, max_distance_km=10, top_n=5):\n",
    "    # Hitung jarak dari tempat wisata yang dipilih\n",
    "    df['distance_from_selected'] = df['coordinates'].apply(lambda coord: haversine(selected_place_lat, selected_place_lon, *map(float, coord.split(','))))\n",
    "    \n",
    "    # Filter tempat wisata yang berada dalam jarak tertentu\n",
    "    nearby_df = df[df['distance_from_selected'] <= max_distance_km]\n",
    "    \n",
    "    # Urutkan berdasarkan jarak terdekat\n",
    "    nearby_df = nearby_df.sort_values(by='distance_from_selected', ascending=True)\n",
    "    \n",
    "    # Kembalikan top-N hasil\n",
    "    return nearby_df.head(top_n)\n",
    "\n",
    "# Modifikasi fungsi utama untuk memberikan rekomendasi setelah memilih tempat\n",
    "def recommend_nearby(df, selected_place_id, max_distance_km=10, top_n=5):\n",
    "    # Ambil koordinat tempat wisata yang dipilih\n",
    "    selected_place = df[df['place_id'] == selected_place_id].iloc[0]\n",
    "    selected_place_lat, selected_place_lon = map(float, selected_place['coordinates'].split(','))\n",
    "\n",
    "    # Cari tempat wisata terdekat\n",
    "    nearby_recommendations = find_nearby_places(df, selected_place_lat, selected_place_lon, max_distance_km, top_n)\n",
    "    \n",
    "    return nearby_recommendations"
   ]
  },
  {
   "cell_type": "markdown",
   "metadata": {},
   "source": [
    "## Perhitungan IMDB Weighted Rating"
   ]
  },
  {
   "cell_type": "code",
   "execution_count": 68,
   "metadata": {},
   "outputs": [],
   "source": [
    "# Fungsi untuk menghitung weighted rating\n",
    "def weighted_rating(x, m, C):\n",
    "    v = x['reviews']  # Jumlah ulasan\n",
    "    R = x['rating']   # Rating rata-rata tempat wisata\n",
    "    # Hitung weighted rating\n",
    "    return (v / (v + m) * R) + (m / (v + m) * C)\n",
    "\n",
    "# 2. Fungsi untuk mengurutkan berdasarkan weighted rating\n",
    "def sort_by_weighted_rating(df):\n",
    "    # Tentukan m (jumlah ulasan minimum) dan C (rating rata-rata keseluruhan)\n",
    "    C = df['rating'].mean()\n",
    "    m = df['reviews'].quantile(0.75)  # Mengambil persentil 75% dari ulasan untuk threshold minimum\n",
    "\n",
    "    # Hitung weighted rating untuk setiap baris\n",
    "    df['weighted_rating'] = df.apply(lambda x: weighted_rating(x, m, C), axis=1)\n",
    "\n",
    "    # Urutkan berdasarkan weighted rating tertinggi\n",
    "    return df.sort_values(by='weighted_rating', ascending=False)"
   ]
  },
  {
   "cell_type": "markdown",
   "metadata": {},
   "source": [
    "## Fungsi Rekomendasi"
   ]
  },
  {
   "cell_type": "code",
   "execution_count": 69,
   "metadata": {},
   "outputs": [],
   "source": [
    "# Modifikasi fungsi rekomendasi untuk menggunakan weighted rating\n",
    "def recommend(df, user_input=None, user_lat=None, user_lon=None, selected_type=None, max_distance_km=10, top_n=5):\n",
    "    # Pencarian berdasarkan nama jika ada input pengguna\n",
    "    if user_input:\n",
    "        df = search_by_name(df, user_input)\n",
    "    \n",
    "    # Filter berdasarkan tipe tempat wisata jika diberikan\n",
    "    if selected_type:\n",
    "        df = filter_by_type(df, selected_type)\n",
    "    \n",
    "    # Urutkan berdasarkan weighted rating\n",
    "    df = sort_by_weighted_rating(df)\n",
    "    \n",
    "    # Return hasil pencarian berdasarkan nama dan lokasi\n",
    "    return df.head(top_n)"
   ]
  },
  {
   "cell_type": "markdown",
   "metadata": {},
   "source": [
    "## Pencarian Dengan Search Field"
   ]
  },
  {
   "cell_type": "code",
   "execution_count": null,
   "metadata": {},
   "outputs": [],
   "source": [
    "# Eksekusi pencarian pertama kali (sebelum memilih tempat)\n",
    "user_lat = -7.774189\n",
    "user_lon = 110.3647986\n",
    "user_input = \"Museum\"\n",
    "selected_type = \"Museum\"\n",
    "max_distance_km = 0.2\n",
    "top_n = 20\n",
    "\n",
    "# Panggil fungsi rekomendasi awal\n",
    "name_recommendations = recommend(fixedDf, user_input, user_lat, user_lon, selected_type, max_distance_km, top_n)\n",
    "\n",
    "# Tampilkan hasil\n",
    "print(\"Recommendations based on name search:\")\n",
    "name_recommendations"
   ]
  },
  {
   "cell_type": "markdown",
   "metadata": {},
   "source": [
    "## Pencarian dari Tempat Yang Dipilih"
   ]
  },
  {
   "cell_type": "code",
   "execution_count": 71,
   "metadata": {},
   "outputs": [],
   "source": [
    "# # Eksekusi pencarian berdasarkan tempat yang dipilih\n",
    "# selected_place_id = 67  # Misalnya, pengguna memilih tempat dengan place_id 0\n",
    "# max_distance_km = 5  # Jarak maksimal dari tempat yang dipilih\n",
    "# top_n = 10  # Ambil 3 tempat terdekat\n",
    "\n",
    "# # Periksa apakah rekomendasi pertama berisi kolom place_id\n",
    "# if 'place_id' in name_recommendations.columns:\n",
    "#     # Panggil fungsi rekomendasi untuk tempat terdekat\n",
    "#     nearby_recommendations = recommend_nearby(name_recommendations, selected_place_id, max_distance_km, top_n)\n",
    "\n",
    "#     # Tampilkan hasil rekomendasi terdekat menggunakan display()\n",
    "#     print(\"\\nNearby recommendations from the selected place:\")\n",
    "#     display(nearby_recommendations)  # Menggunakan display untuk menampilkan tabel dengan lebih baik\n",
    "# else:\n",
    "#     print(\"Place ID tidak ditemukan dalam hasil pencarian.\")"
   ]
  },
  {
   "cell_type": "markdown",
   "metadata": {},
   "source": [
    "## Model Evaluation"
   ]
  },
  {
   "cell_type": "code",
   "execution_count": null,
   "metadata": {},
   "outputs": [],
   "source": [
    "from sklearn.metrics import mean_absolute_error\n",
    "\n",
    "# Assuming 'rating' is the actual value and 'weighted_rating' is the predicted value\n",
    "def calculate_mae(df):\n",
    "    # Ensure that 'weighted_rating' is already computed\n",
    "    if 'weighted_rating' not in df.columns:\n",
    "        # Calculate 'weighted_rating' if not present\n",
    "        C = df['rating'].mean()\n",
    "        m = df['reviews'].quantile(0.75)\n",
    "        df['weighted_rating'] = df.apply(lambda x: weighted_rating(x, m, C), axis=1)\n",
    "    \n",
    "    # Calculate MAE between actual 'rating' and 'weighted_rating'\n",
    "    mae_value = mean_absolute_error(df['rating'], df['weighted_rating'])\n",
    "    \n",
    "    return mae_value\n",
    "\n",
    "# Calculate the MAE for the dataset\n",
    "mae = calculate_mae(fixedDf)\n",
    "\n",
    "print(\"Mean Absolute Error (MAE) between rating and weighted rating:\", mae)\n"
   ]
  },
  {
   "cell_type": "code",
   "execution_count": null,
   "metadata": {},
   "outputs": [],
   "source": [
    "from sklearn.metrics import f1_score, confusion_matrix\n",
    "\n",
    "# Step 1: Convert ratings to categories\n",
    "def categorize_rating(rating):\n",
    "    if rating <= 2.5:\n",
    "        return 'Low'\n",
    "    elif 2.5 < rating <= 4.0:\n",
    "        return 'Medium'\n",
    "    else:\n",
    "        return 'High'\n",
    "\n",
    "# Apply categorization to actual and predicted ratings\n",
    "fixedDf['rating_category'] = fixedDf['rating'].apply(categorize_rating)\n",
    "fixedDf['weighted_rating_category'] = fixedDf['weighted_rating'].apply(categorize_rating)\n",
    "\n",
    "# Step 2: Calculate F1 Score\n",
    "f1 = f1_score(fixedDf['rating_category'], fixedDf['weighted_rating_category'], average='weighted')\n",
    "\n",
    "# Step 3: Calculate Confusion Matrix\n",
    "conf_matrix = confusion_matrix(fixedDf['rating_category'], fixedDf['weighted_rating_category'])\n",
    "\n",
    "# Print results\n",
    "print(\"F1 Score:\", f1)\n",
    "print(\"Confusion Matrix:\\n\", conf_matrix)\n"
   ]
  },
  {
   "cell_type": "markdown",
   "metadata": {},
   "source": [
    "## Coba"
   ]
  },
  {
   "cell_type": "code",
   "execution_count": null,
   "metadata": {},
   "outputs": [],
   "source": [
    "# Contoh dataset riwayat rating user\n",
    "# Kolom: user_id, place_id, rating\n",
    "user_ratings = pd.DataFrame({\n",
    "    'user_id': [1, 1, 1, 2, 2],\n",
    "    'place_id': [10, 20, 30, 10, 40],\n",
    "    'rating': [4, 5, 3, 5, 4]\n",
    "})\n",
    "\n",
    "# Step 1: Memeriksa tempat yang pernah dirating oleh user\n",
    "def get_user_rated_places(user_id, ratings_df):\n",
    "    user_rated_places = ratings_df[ratings_df['user_id'] == user_id]\n",
    "    return user_rated_places\n",
    "\n",
    "# Step 2: Menghitung kemiripan antar tempat berdasarkan rating\n",
    "def calculate_similarity_based_on_ratings(place_id, ratings_df):\n",
    "    # Membuat pivot table: baris = place, kolom = user, nilai = rating\n",
    "    rating_pivot = ratings_df.pivot_table(index='place_id', columns='user_id', values='rating').fillna(0)\n",
    "    \n",
    "    # Menghitung cosine similarity antar tempat\n",
    "    similarity_matrix = cosine_similarity(rating_pivot)\n",
    "    \n",
    "    # Menyusun hasil dalam dataframe\n",
    "    similarity_df = pd.DataFrame(similarity_matrix, index=rating_pivot.index, columns=rating_pivot.index)\n",
    "    \n",
    "    # Mengurutkan tempat yang mirip dengan place_id yang dipilih\n",
    "    similar_places = similarity_df[place_id].sort_values(ascending=False)\n",
    "    return similar_places\n",
    "\n",
    "# Step 3: Menggabungkan hasil rekomendasi awal dengan hasil dari rating user\n",
    "def combine_recommendations(initial_recommendations, user_rated_places, ratings_df):\n",
    "    combined_results = pd.DataFrame()\n",
    "    \n",
    "    for place_id in user_rated_places['place_id']:\n",
    "        # Dapatkan tempat yang mirip berdasarkan rating user\n",
    "        similar_places = calculate_similarity_based_on_ratings(place_id, ratings_df)\n",
    "        \n",
    "        # Gabungkan dengan hasil rekomendasi awal\n",
    "        combined_results = pd.concat([combined_results, initial_recommendations[initial_recommendations['place_id'].isin(similar_places.index)]])\n",
    "    \n",
    "    # Menghapus duplikat dan mengurutkan berdasarkan relevansi\n",
    "    combined_results = combined_results.drop_duplicates().sort_values(by='rating', ascending=False)\n",
    "    \n",
    "    return combined_results\n",
    "\n",
    "# Step 4: Menjalankan kombinasi rekomendasi\n",
    "user_id = 1  # Contoh user\n",
    "user_rated_places = get_user_rated_places(user_id, user_ratings)\n",
    "final_recommendations = combine_recommendations(name_recommendations, user_rated_places, user_ratings)\n",
    "\n",
    "# Menampilkan hasil rekomendasi final\n",
    "display(final_recommendations)\n"
   ]
  }
 ],
 "metadata": {
  "kernelspec": {
   "display_name": ".venv",
   "language": "python",
   "name": "python3"
  },
  "language_info": {
   "codemirror_mode": {
    "name": "ipython",
    "version": 3
   },
   "file_extension": ".py",
   "mimetype": "text/x-python",
   "name": "python",
   "nbconvert_exporter": "python",
   "pygments_lexer": "ipython3",
   "version": "3.11.5"
  }
 },
 "nbformat": 4,
 "nbformat_minor": 2
}
