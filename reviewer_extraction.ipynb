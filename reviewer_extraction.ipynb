{
 "cells": [
  {
   "cell_type": "code",
   "execution_count": null,
   "metadata": {},
   "outputs": [],
   "source": [
    "import pandas as pd\n",
    "import numpy as np\n",
    "import ast\n",
    "\n",
    "fixedDf = pd.read_csv('data/fixedData.csv')\n",
    "fixedDf.head()"
   ]
  },
  {
   "cell_type": "markdown",
   "metadata": {},
   "source": [
    "# Get Data Reviewer"
   ]
  },
  {
   "cell_type": "code",
   "execution_count": 121,
   "metadata": {},
   "outputs": [],
   "source": [
    "fixedDf = fixedDf.rename(columns={'Unnamed: 0': 'place_id'})\n",
    "fixedDf.place_id.nunique()\n",
    "fixedDf.to_csv('data/fixedData.csv', index=False)"
   ]
  },
  {
   "cell_type": "markdown",
   "metadata": {},
   "source": [
    "## Tambah Kolom Place Id"
   ]
  },
  {
   "cell_type": "code",
   "execution_count": null,
   "metadata": {},
   "outputs": [],
   "source": [
    "reviewerDf = fixedDf[['place_id','reviewer_name', 'rating_review', 'review_text']]\n",
    "reviewerDf.info()"
   ]
  },
  {
   "cell_type": "markdown",
   "metadata": {},
   "source": [
    "## Memisahkan Data List dalam Bentuk Per Baris Data"
   ]
  },
  {
   "cell_type": "markdown",
   "metadata": {},
   "source": [
    "### Mengisi Nilai Null dengan Anonim"
   ]
  },
  {
   "cell_type": "code",
   "execution_count": 123,
   "metadata": {},
   "outputs": [],
   "source": [
    "# Langkah 1: Mengisi nilai null dengan string '[\"anonim\"]'\n",
    "reviewerDf.loc[:, 'reviewer_name'] = reviewerDf['reviewer_name'].fillna('[\"unknown\"]')\n",
    "reviewerDf.loc[:, 'rating_review'] = reviewerDf['rating_review'].fillna('[\"0.0\"]')\n",
    "reviewerDf.loc[:, 'review_text'] = reviewerDf['review_text'].fillna('[\"unknown\"]')"
   ]
  },
  {
   "cell_type": "markdown",
   "metadata": {},
   "source": [
    "### Preprocess Bentuk List"
   ]
  },
  {
   "cell_type": "code",
   "execution_count": 124,
   "metadata": {},
   "outputs": [],
   "source": [
    "# Fungsi aman untuk menggunakan ast.literal_eval\n",
    "def safe_literal_eval(val):\n",
    "    try:\n",
    "        if isinstance(val, str):\n",
    "            return ast.literal_eval(val)  # Ubah hanya jika val adalah string\n",
    "        return val\n",
    "    except (ValueError, SyntaxError):\n",
    "        return val  # Kembalikan val asli jika tidak bisa diuba"
   ]
  },
  {
   "cell_type": "code",
   "execution_count": 125,
   "metadata": {},
   "outputs": [],
   "source": [
    "# Langkah 2: Mengonversi string yang terlihat seperti list menjadi list Python menggunakan ast.literal_eval secara aman\n",
    "reviewerDf.loc[:, 'reviewer_name'] = reviewerDf['reviewer_name'].apply(safe_literal_eval)\n",
    "reviewerDf.loc[:, 'rating_review'] = reviewerDf['rating_review'].apply(safe_literal_eval)\n",
    "reviewerDf.loc[:, 'review_text'] = reviewerDf['review_text'].apply(safe_literal_eval)"
   ]
  },
  {
   "cell_type": "markdown",
   "metadata": {},
   "source": [
    "### Pemecahan List Jadi Per Baris"
   ]
  },
  {
   "cell_type": "code",
   "execution_count": 126,
   "metadata": {},
   "outputs": [],
   "source": [
    "# Langkah 3: Menentukan panjang maksimum list dalam setiap kolom\n",
    "def get_max_len(col):\n",
    "    return col.apply(lambda x: len(x) if isinstance(x, list) else 0).max()\n",
    "\n",
    "max_len_reviewer = get_max_len(reviewerDf['reviewer_name'])\n",
    "max_len_rating = get_max_len(reviewerDf['rating_review'])\n",
    "max_len_review = get_max_len(reviewerDf['review_text'])\n",
    "max_len = max(max_len_reviewer, max_len_rating, max_len_review)"
   ]
  },
  {
   "cell_type": "code",
   "execution_count": 127,
   "metadata": {},
   "outputs": [],
   "source": [
    "# Langkah 4: Menyamakan panjang list di semua kolom dengan mengisi NaN pada list yang lebih pendek\n",
    "def pad_list_with_nan(lst, max_len):\n",
    "    if isinstance(lst, list):\n",
    "        return lst + [np.nan] * (max_len - len(lst))\n",
    "    else:\n",
    "        return [np.nan] * max_len  # Jika tidak ada list, buat list dengan NaN\n",
    "reviewerDf.loc[:, 'reviewer_name'] = reviewerDf['reviewer_name'].apply(lambda x: pad_list_with_nan(x, max_len))\n",
    "reviewerDf.loc[:, 'rating_review'] = reviewerDf['rating_review'].apply(lambda x: pad_list_with_nan(x, max_len))\n",
    "reviewerDf.loc[:, 'review_text'] = reviewerDf['review_text'].apply(lambda x: pad_list_with_nan(x, max_len))\n",
    "\n",
    "# Langkah 5: Meledakkan (explode) kolom reviewer_name, rating_review, dan review_text\n",
    "reviewerDf = reviewerDf.explode(['reviewer_name', 'rating_review', 'review_text']).reset_index(drop=True)"
   ]
  },
  {
   "cell_type": "markdown",
   "metadata": {},
   "source": [
    "### Hapus Data NaN (Dummy)"
   ]
  },
  {
   "cell_type": "code",
   "execution_count": 128,
   "metadata": {},
   "outputs": [],
   "source": [
    "reviewerDf = reviewerDf.dropna(axis=0)"
   ]
  },
  {
   "cell_type": "markdown",
   "metadata": {},
   "source": [
    "### Tambah Data User ID"
   ]
  },
  {
   "cell_type": "code",
   "execution_count": null,
   "metadata": {},
   "outputs": [],
   "source": [
    "reviewerDf['user_id'] = pd.factorize(reviewerDf['reviewer_name'])[0] + 1\n",
    "# Ubah Urutan Kolom Agar Mudah dibaca\n",
    "reviewerDf = reviewerDf[['place_id', 'user_id', 'reviewer_name', 'rating_review', 'review_text']]\n",
    "reviewerDf.head(20)"
   ]
  },
  {
   "cell_type": "code",
   "execution_count": 130,
   "metadata": {},
   "outputs": [],
   "source": [
    "reviewerDf.to_csv('data/data-user/originalData.csv', index=False)"
   ]
  },
  {
   "cell_type": "markdown",
   "metadata": {},
   "source": [
    "# Exploratory Data Analysis (EDA)\n",
    "\n",
    "Pertanyaan:\n",
    "1. Berapa user id yang lebih dari 1 nilai unik yang ada di dalam data?\n",
    "2. place_id apa saja yang direview oleh user id yang tersaring di pertanyaan 1?"
   ]
  },
  {
   "cell_type": "markdown",
   "metadata": {},
   "source": [
    "## Jawab No 1"
   ]
  },
  {
   "cell_type": "code",
   "execution_count": null,
   "metadata": {},
   "outputs": [],
   "source": [
    "# Menghitung jumlah kemunculan setiap user_id yang muncul lebih dari 1 kali\n",
    "user_id_counts = reviewerDf['user_id'].value_counts()\n",
    "filtered_user_ids = user_id_counts[user_id_counts > 1]\n",
    "\n",
    "# Visualisasikan hasil group user_id yang muncul lebih dari 1 kali dengan countnya\n",
    "cntByUsrID = pd.DataFrame({'user_id': filtered_user_ids.index, 'count': filtered_user_ids.values})\n",
    "# Mengubah hasil menjadi format yang lebih mudah dibaca\n",
    "cntByUsrID = cntByUsrID.groupby('count')['user_id'].apply(lambda x: ', '.join(x.astype(str))).reset_index()\n",
    "cntByUsrID"
   ]
  },
  {
   "cell_type": "code",
   "execution_count": null,
   "metadata": {},
   "outputs": [],
   "source": [
    "reviewerDf.loc[reviewerDf['user_id'] == 49, 'reviewer_name']"
   ]
  },
  {
   "cell_type": "code",
   "execution_count": 133,
   "metadata": {},
   "outputs": [],
   "source": [
    "cntByUsrID.to_csv('data/data-user/countUserPerReview.csv', index=False)"
   ]
  },
  {
   "cell_type": "markdown",
   "metadata": {},
   "source": [
    "## Jawab No 2"
   ]
  },
  {
   "cell_type": "code",
   "execution_count": null,
   "metadata": {},
   "outputs": [],
   "source": [
    "# All\n",
    "# Memodifikasi kode untuk memisahkan review_text dengan newline (\\n) tanpa menggunakan unique\n",
    "grpPlaceAll = reviewerDf.groupby('user_id').apply(\n",
    "    lambda x: pd.DataFrame({\n",
    "        'place_ids': [', '.join(x['place_id'].astype(str).unique())],\n",
    "        'ratings': [', '.join(x['rating_review'].astype(str))],\n",
    "        'reviews': ['\\n'.join(x['review_text'])]  # Memisahkan review dengan \\n\n",
    "    })\n",
    ").reset_index(level=1, drop=True).reset_index()\n",
    "\n",
    "grpPlaceAll"
   ]
  },
  {
   "cell_type": "code",
   "execution_count": null,
   "metadata": {},
   "outputs": [],
   "source": [
    "# Sebagian\n",
    "# Filter dataframe berdasarkan user_id yang muncul lebih dari 1 kali\n",
    "filtered_df = reviewerDf[reviewerDf['user_id'].isin(filtered_user_ids.index)]\n",
    "\n",
    "# Modifikasi kode untuk mengelompokkan data berdasarkan user_id yang sudah difilter\n",
    "grpUserFiltered = filtered_df.groupby('user_id').apply(\n",
    "    lambda x: pd.DataFrame({\n",
    "        'place_ids': [', '.join(x['place_id'].astype(str).unique())],\n",
    "        'ratings': [', '.join(x['rating_review'].astype(str))],\n",
    "        'reviews': ['\\n'.join(x['review_text'])]  # Memisahkan review dengan \\n\n",
    "    })\n",
    ").reset_index(level=1, drop=True).reset_index()\n",
    "grpUserFiltered"
   ]
  },
  {
   "cell_type": "code",
   "execution_count": 136,
   "metadata": {},
   "outputs": [],
   "source": [
    "grpUserFiltered.to_csv('data/data-user/countUserPerUniqueReview.csv', index=False)"
   ]
  },
  {
   "cell_type": "code",
   "execution_count": null,
   "metadata": {},
   "outputs": [],
   "source": [
    "# Ambil data reviews dari user_id 16\n",
    "reviews = grpUserFiltered.loc[grpUserFiltered['user_id'] == 16, 'reviews'].values\n",
    "\n",
    "# Jika reviews ditemukan, pisahkan berdasarkan '\\n' dan print setiap review\n",
    "if reviews:\n",
    "    for review in reviews[0].split('\\n'):\n",
    "        print(review)\n",
    "else:\n",
    "    print(\"No reviews found for user_id 16.\")"
   ]
  }
 ],
 "metadata": {
  "kernelspec": {
   "display_name": ".venv",
   "language": "python",
   "name": "python3"
  },
  "language_info": {
   "codemirror_mode": {
    "name": "ipython",
    "version": 3
   },
   "file_extension": ".py",
   "mimetype": "text/x-python",
   "name": "python",
   "nbconvert_exporter": "python",
   "pygments_lexer": "ipython3",
   "version": "3.11.5"
  }
 },
 "nbformat": 4,
 "nbformat_minor": 2
}
