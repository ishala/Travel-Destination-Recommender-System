{
 "cells": [
  {
   "cell_type": "markdown",
   "metadata": {},
   "source": [
    "# Catatan yang Diulik\n",
    "\n",
    "1. Modality Based, mempertimbangkan kolom rating, jumlah reviews, nama tempat, tipe wisata, Waktu buka, dan koordinat\n",
    "2. Interkoneksi antar tempat wisata, dengan mempertimbangkan nilai di user. Nilai yang dimaksud misal user A pernah merating berapa di tempat A, lalu telusuri dia pernah merating dimana saja. Nanti dijadikan identitas user yang digunakan untuk rekomendasi item, tapi soft recom, tidak user based.\n",
    "\n",
    "Catatan:\n",
    "- Untuk koordinat bisa coba ulik rumus **Haversine**\n",
    "- Poin ke 2, bisa pake konsep inputan baru ke model rekomendasi, jadi inputan nnti di cross calculation dari hasil rekomendasi dari poin 1.\n",
    "- Waktu membuka website atau waktu komputer dijadikan pertimbangan rekomendasi dari nilai waktu buka di data item."
   ]
  },
  {
   "cell_type": "code",
   "execution_count": 44,
   "metadata": {},
   "outputs": [
    {
     "name": "stdout",
     "output_type": "stream",
     "text": [
      "<class 'pandas.core.frame.DataFrame'>\n",
      "RangeIndex: 455 entries, 0 to 454\n",
      "Data columns (total 17 columns):\n",
      " #   Column                 Non-Null Count  Dtype  \n",
      "---  ------                 --------------  -----  \n",
      " 0   place_id               455 non-null    int64  \n",
      " 1   name                   455 non-null    object \n",
      " 2   address                455 non-null    object \n",
      " 3   coordinates            455 non-null    object \n",
      " 4   workday_timing         455 non-null    object \n",
      " 5   closed_on              455 non-null    object \n",
      " 6   reviews                455 non-null    float64\n",
      " 7   rating                 455 non-null    float64\n",
      " 8   most_popular_times     455 non-null    object \n",
      " 9   popular_times          455 non-null    object \n",
      " 10  reviewer_name          409 non-null    object \n",
      " 11  rating_review          409 non-null    object \n",
      " 12  review_text            402 non-null    object \n",
      " 13  accessibility_enabled  455 non-null    object \n",
      " 14  children_enabled       455 non-null    object \n",
      " 15  types                  455 non-null    object \n",
      " 16  city                   455 non-null    object \n",
      "dtypes: float64(2), int64(1), object(14)\n",
      "memory usage: 60.6+ KB\n"
     ]
    }
   ],
   "source": [
    "import pandas as pd\n",
    "import numpy as np\n",
    "from sklearn.feature_extraction.text import TfidfVectorizer\n",
    "from sklearn.preprocessing import StandardScaler, OneHotEncoder\n",
    "from sklearn.metrics.pairwise import cosine_similarity\n",
    "from math import radians, sin, cos, sqrt, atan2\n",
    "from datetime import datetime\n",
    "\n",
    "fixedDf = pd.read_csv('data/fixedData.csv')\n",
    "fixedDf.info()"
   ]
  },
  {
   "cell_type": "code",
   "execution_count": 45,
   "metadata": {},
   "outputs": [
    {
     "data": {
      "text/html": [
       "<div>\n",
       "<style scoped>\n",
       "    .dataframe tbody tr th:only-of-type {\n",
       "        vertical-align: middle;\n",
       "    }\n",
       "\n",
       "    .dataframe tbody tr th {\n",
       "        vertical-align: top;\n",
       "    }\n",
       "\n",
       "    .dataframe thead th {\n",
       "        text-align: right;\n",
       "    }\n",
       "</style>\n",
       "<table border=\"1\" class=\"dataframe\">\n",
       "  <thead>\n",
       "    <tr style=\"text-align: right;\">\n",
       "      <th></th>\n",
       "      <th>place_id</th>\n",
       "      <th>name</th>\n",
       "      <th>address</th>\n",
       "      <th>coordinates</th>\n",
       "      <th>workday_timing</th>\n",
       "      <th>closed_on</th>\n",
       "      <th>reviews</th>\n",
       "      <th>rating</th>\n",
       "      <th>most_popular_times</th>\n",
       "      <th>popular_times</th>\n",
       "      <th>reviewer_name</th>\n",
       "      <th>rating_review</th>\n",
       "      <th>review_text</th>\n",
       "      <th>accessibility_enabled</th>\n",
       "      <th>children_enabled</th>\n",
       "      <th>types</th>\n",
       "      <th>city</th>\n",
       "    </tr>\n",
       "  </thead>\n",
       "  <tbody>\n",
       "    <tr>\n",
       "      <th>0</th>\n",
       "      <td>0</td>\n",
       "      <td>Agro Tainment Wisata Kampung Markisa</td>\n",
       "      <td>Agro Tainment Wisata Kampung Markisa, Blunyahr...</td>\n",
       "      <td>-7.774189,110.3647986</td>\n",
       "      <td>Not Present</td>\n",
       "      <td>Buka Setiap Hari</td>\n",
       "      <td>2.0</td>\n",
       "      <td>5.0</td>\n",
       "      <td>07.00, 08.00, 09.00\\n---\\nLabel Waktu: 07.00\\n...</td>\n",
       "      <td>Senin:\\n    06.00: 0% | Diam\\n    07.00: 25% |...</td>\n",
       "      <td>['Deyze Nghokeh', 'Khoari Koutsar', 'Deyze Ngh...</td>\n",
       "      <td>[5.0, 5.0, 5.0, 5.0]</td>\n",
       "      <td>['Teks review tidak tersedia', 'Teks review ti...</td>\n",
       "      <td>Pintu masuk khusus pengguna kursi roda, Tempat...</td>\n",
       "      <td>Cocok untuk anak-anak</td>\n",
       "      <td>Tourist attraction</td>\n",
       "      <td>Kota Yogyakarta, Daerah Istimewa Yogyakarta</td>\n",
       "    </tr>\n",
       "    <tr>\n",
       "      <th>1</th>\n",
       "      <td>1</td>\n",
       "      <td>Ancol Wisata Alam</td>\n",
       "      <td>Ancol Wisata Alam, Unnamed Road, Selingan, Kar...</td>\n",
       "      <td>-7.6668655999999995,110.266713</td>\n",
       "      <td>Not Present</td>\n",
       "      <td>Buka Setiap Hari</td>\n",
       "      <td>390.0</td>\n",
       "      <td>4.4</td>\n",
       "      <td>Tidak Tersedia</td>\n",
       "      <td>Tidak Tersedia</td>\n",
       "      <td>['Ifandri Dwi Aryono (IFANDRI DWI ARYONO)', 'C...</td>\n",
       "      <td>[5.0, 5.0, 4.0, 5.0, 4.0, 2.0, 5.0, 4.0]</td>\n",
       "      <td>['salah catu calon destinasi wisata alam berik...</td>\n",
       "      <td>Pintu masuk khusus pengguna kursi roda, Tempat...</td>\n",
       "      <td>Cocok untuk anak-anak</td>\n",
       "      <td>Tourist attraction</td>\n",
       "      <td>Kabupaten Magelang, Jawa Tengah</td>\n",
       "    </tr>\n",
       "    <tr>\n",
       "      <th>2</th>\n",
       "      <td>2</td>\n",
       "      <td>BANYU WIYOSO DAGEN (Kolam Ikan)</td>\n",
       "      <td>4846+WH5 BANYU WIYOSO DAGEN (Kolam Ikan), Gumu...</td>\n",
       "      <td>-7.8927344999999995,110.3114727</td>\n",
       "      <td>Not Present</td>\n",
       "      <td>Buka Setiap Hari</td>\n",
       "      <td>4.0</td>\n",
       "      <td>5.0</td>\n",
       "      <td>Tidak Tersedia</td>\n",
       "      <td>Tidak Tersedia</td>\n",
       "      <td>['Laili Isna Fatkhurrahmah', 'Dian Kusuma Dewi...</td>\n",
       "      <td>[5.0, 5.0, 5.0, 5.0]</td>\n",
       "      <td>['Tempat yang asik buat jalan2 pagi atau sore....</td>\n",
       "      <td>Pintu masuk khusus pengguna kursi roda, Tempat...</td>\n",
       "      <td>Cocok untuk anak-anak</td>\n",
       "      <td>Tourist attraction</td>\n",
       "      <td>Kabupaten Bantul, Daerah Istimewa Yogyakarta</td>\n",
       "    </tr>\n",
       "    <tr>\n",
       "      <th>3</th>\n",
       "      <td>3</td>\n",
       "      <td>Bendhung Lepen</td>\n",
       "      <td>Bendhung Lepen, Mrican UH7/ 338, Giwangan, Kec...</td>\n",
       "      <td>-7.8316668,110.3945119</td>\n",
       "      <td>Not Present</td>\n",
       "      <td>Buka Setiap Hari</td>\n",
       "      <td>1336.0</td>\n",
       "      <td>4.7</td>\n",
       "      <td>17.00, 16.00, 18.00\\n---\\nLabel Waktu: 17.00\\n...</td>\n",
       "      <td>Senin:\\n    04.00: 0% | Diam\\n    05.00: 6% | ...</td>\n",
       "      <td>['Muhammad Hidayatullah', 'suwarso doang', 'L ...</td>\n",
       "      <td>[5.0, 5.0, 5.0, 5.0, 5.0, 4.0, 5.0, 5.0]</td>\n",
       "      <td>['tempat menyenangkan untuk rekreasi, bisa dud...</td>\n",
       "      <td>Pintu masuk khusus pengguna kursi roda, Tempat...</td>\n",
       "      <td>Cocok untuk anak-anak, Cocok untuk ulang tahun...</td>\n",
       "      <td>Tourist attraction</td>\n",
       "      <td>Kota Yogyakarta, Daerah Istimewa Yogyakarta</td>\n",
       "    </tr>\n",
       "    <tr>\n",
       "      <th>4</th>\n",
       "      <td>4</td>\n",
       "      <td>Bendungan Irigasi Jalan Samas</td>\n",
       "      <td>278H+G39 Bendungan Irigasi Jalan Samas, Unname...</td>\n",
       "      <td>-7.9837082,110.2777382</td>\n",
       "      <td>Not Present</td>\n",
       "      <td>Buka Setiap Hari</td>\n",
       "      <td>1.0</td>\n",
       "      <td>5.0</td>\n",
       "      <td>Tidak Tersedia</td>\n",
       "      <td>Tidak Tersedia</td>\n",
       "      <td>['Bastian Viery']</td>\n",
       "      <td>[5.0]</td>\n",
       "      <td>['Bagus']</td>\n",
       "      <td>Tempat parkir khusus pengguna kursi roda</td>\n",
       "      <td>Tidak cocok untuk anak-anak</td>\n",
       "      <td>Tourist attraction</td>\n",
       "      <td>Kabupaten Bantul, Daerah Istimewa Yogyakarta</td>\n",
       "    </tr>\n",
       "  </tbody>\n",
       "</table>\n",
       "</div>"
      ],
      "text/plain": [
       "   place_id                                  name  \\\n",
       "0         0  Agro Tainment Wisata Kampung Markisa   \n",
       "1         1                     Ancol Wisata Alam   \n",
       "2         2       BANYU WIYOSO DAGEN (Kolam Ikan)   \n",
       "3         3                        Bendhung Lepen   \n",
       "4         4         Bendungan Irigasi Jalan Samas   \n",
       "\n",
       "                                             address  \\\n",
       "0  Agro Tainment Wisata Kampung Markisa, Blunyahr...   \n",
       "1  Ancol Wisata Alam, Unnamed Road, Selingan, Kar...   \n",
       "2  4846+WH5 BANYU WIYOSO DAGEN (Kolam Ikan), Gumu...   \n",
       "3  Bendhung Lepen, Mrican UH7/ 338, Giwangan, Kec...   \n",
       "4  278H+G39 Bendungan Irigasi Jalan Samas, Unname...   \n",
       "\n",
       "                       coordinates workday_timing         closed_on  reviews  \\\n",
       "0            -7.774189,110.3647986    Not Present  Buka Setiap Hari      2.0   \n",
       "1   -7.6668655999999995,110.266713    Not Present  Buka Setiap Hari    390.0   \n",
       "2  -7.8927344999999995,110.3114727    Not Present  Buka Setiap Hari      4.0   \n",
       "3           -7.8316668,110.3945119    Not Present  Buka Setiap Hari   1336.0   \n",
       "4           -7.9837082,110.2777382    Not Present  Buka Setiap Hari      1.0   \n",
       "\n",
       "   rating                                 most_popular_times  \\\n",
       "0     5.0  07.00, 08.00, 09.00\\n---\\nLabel Waktu: 07.00\\n...   \n",
       "1     4.4                                     Tidak Tersedia   \n",
       "2     5.0                                     Tidak Tersedia   \n",
       "3     4.7  17.00, 16.00, 18.00\\n---\\nLabel Waktu: 17.00\\n...   \n",
       "4     5.0                                     Tidak Tersedia   \n",
       "\n",
       "                                       popular_times  \\\n",
       "0  Senin:\\n    06.00: 0% | Diam\\n    07.00: 25% |...   \n",
       "1                                     Tidak Tersedia   \n",
       "2                                     Tidak Tersedia   \n",
       "3  Senin:\\n    04.00: 0% | Diam\\n    05.00: 6% | ...   \n",
       "4                                     Tidak Tersedia   \n",
       "\n",
       "                                       reviewer_name  \\\n",
       "0  ['Deyze Nghokeh', 'Khoari Koutsar', 'Deyze Ngh...   \n",
       "1  ['Ifandri Dwi Aryono (IFANDRI DWI ARYONO)', 'C...   \n",
       "2  ['Laili Isna Fatkhurrahmah', 'Dian Kusuma Dewi...   \n",
       "3  ['Muhammad Hidayatullah', 'suwarso doang', 'L ...   \n",
       "4                                  ['Bastian Viery']   \n",
       "\n",
       "                              rating_review  \\\n",
       "0                      [5.0, 5.0, 5.0, 5.0]   \n",
       "1  [5.0, 5.0, 4.0, 5.0, 4.0, 2.0, 5.0, 4.0]   \n",
       "2                      [5.0, 5.0, 5.0, 5.0]   \n",
       "3  [5.0, 5.0, 5.0, 5.0, 5.0, 4.0, 5.0, 5.0]   \n",
       "4                                     [5.0]   \n",
       "\n",
       "                                         review_text  \\\n",
       "0  ['Teks review tidak tersedia', 'Teks review ti...   \n",
       "1  ['salah catu calon destinasi wisata alam berik...   \n",
       "2  ['Tempat yang asik buat jalan2 pagi atau sore....   \n",
       "3  ['tempat menyenangkan untuk rekreasi, bisa dud...   \n",
       "4                                          ['Bagus']   \n",
       "\n",
       "                               accessibility_enabled  \\\n",
       "0  Pintu masuk khusus pengguna kursi roda, Tempat...   \n",
       "1  Pintu masuk khusus pengguna kursi roda, Tempat...   \n",
       "2  Pintu masuk khusus pengguna kursi roda, Tempat...   \n",
       "3  Pintu masuk khusus pengguna kursi roda, Tempat...   \n",
       "4           Tempat parkir khusus pengguna kursi roda   \n",
       "\n",
       "                                    children_enabled               types  \\\n",
       "0                              Cocok untuk anak-anak  Tourist attraction   \n",
       "1                              Cocok untuk anak-anak  Tourist attraction   \n",
       "2                              Cocok untuk anak-anak  Tourist attraction   \n",
       "3  Cocok untuk anak-anak, Cocok untuk ulang tahun...  Tourist attraction   \n",
       "4                        Tidak cocok untuk anak-anak  Tourist attraction   \n",
       "\n",
       "                                           city  \n",
       "0   Kota Yogyakarta, Daerah Istimewa Yogyakarta  \n",
       "1               Kabupaten Magelang, Jawa Tengah  \n",
       "2  Kabupaten Bantul, Daerah Istimewa Yogyakarta  \n",
       "3   Kota Yogyakarta, Daerah Istimewa Yogyakarta  \n",
       "4  Kabupaten Bantul, Daerah Istimewa Yogyakarta  "
      ]
     },
     "execution_count": 45,
     "metadata": {},
     "output_type": "execute_result"
    }
   ],
   "source": [
    "fixedDf.head()"
   ]
  },
  {
   "cell_type": "markdown",
   "metadata": {},
   "source": [
    "# Data Preparation"
   ]
  },
  {
   "cell_type": "markdown",
   "metadata": {},
   "source": [
    "## Standarisasi dan Normalisasi"
   ]
  },
  {
   "cell_type": "markdown",
   "metadata": {},
   "source": [
    "### Workday Timing"
   ]
  },
  {
   "cell_type": "code",
   "execution_count": 46,
   "metadata": {},
   "outputs": [
    {
     "data": {
      "text/plain": [
       "array(['Not Present', '07.00-11.00', '06.30-04.30', '04.30-05.00',\n",
       "       '01.00-08.00', '09.00-04.30', '08.00-05.00', 'Open 24 hours',\n",
       "       '08.00-03.00', '08.00-04.00', '09.00-03.00', '08.30-02.30',\n",
       "       '08.00-02.00', '04.00-06.00', '08.30-03.30', '09.00-05.00',\n",
       "       'Closed', '08.00-09.00', '07.00-04.00', '07.30-04.00',\n",
       "       '11.00-05.00', '04.00-03.00', '06.00-06.00', '08.30-03.00',\n",
       "       '10.00-10.00', '05.00-04.00', '08.00-06.00', '09.00-09.00',\n",
       "       '08.30-04.30', '00.00-10.00', '09.00-02.30', '10.00-05.00',\n",
       "       '09.00-10.00', '06.30-09.00', '06.00-11.00', '07.00-05.00',\n",
       "       '07.00-06.00', '08.00-08.00', '08.00-06.15', '09.00-04.00',\n",
       "       '06.00-04.00', '08.17-09.50', '09.30-06.00', '04.00-06.30',\n",
       "       '07.30-06.30', '05.45-05.00', '09.00-05.30', '07.00-08.00',\n",
       "       '08.30-09.00', '04.30-09.00', '09.00-08.00', '10.00-03.00',\n",
       "       '06.00-07.00', '05.00-06.00', '05.00-07.00', '08.00-11.50',\n",
       "       '09.00-06.00', '07.30-06.00', '08.00-06.30', '03.00-05.00',\n",
       "       '08.00-00.00'], dtype=object)"
      ]
     },
     "execution_count": 46,
     "metadata": {},
     "output_type": "execute_result"
    }
   ],
   "source": [
    "fixedDf.workday_timing.unique()"
   ]
  },
  {
   "cell_type": "markdown",
   "metadata": {},
   "source": [
    "## Rating"
   ]
  },
  {
   "cell_type": "code",
   "execution_count": 47,
   "metadata": {},
   "outputs": [],
   "source": [
    "# Standarisasi Kolom Rating Menggunakan Z-score\n",
    "scaler = StandardScaler()\n",
    "\n",
    "# Data 'rating' akan distandarisasi\n",
    "fixedDf['rating_scaled'] = scaler.fit_transform(fixedDf[['rating']])"
   ]
  },
  {
   "cell_type": "markdown",
   "metadata": {},
   "source": [
    "## Types"
   ]
  },
  {
   "cell_type": "markdown",
   "metadata": {},
   "source": [
    "# Model Development"
   ]
  },
  {
   "cell_type": "markdown",
   "metadata": {},
   "source": [
    "### Perhitungan Haversine (Coordinates)"
   ]
  },
  {
   "cell_type": "code",
   "execution_count": 48,
   "metadata": {},
   "outputs": [],
   "source": [
    "# Perhitungan jarak menggunakan rumus Haversine\n",
    "def haversine(lat1, lon1, lat2, lon2):\n",
    "    R = 6371.0  # Radius bumi dalam kilometer\n",
    "    lat1, lon1, lat2, lon2 = map(radians, [lat1, lon1, lat2, lon2])\n",
    "\n",
    "    dlat = lat2 - lat1\n",
    "    dlon = lon2 - lon1\n",
    "\n",
    "    a = sin(dlat / 2)**2 + cos(lat1) * cos(lat2) * sin(dlon / 2)**2\n",
    "    c = 2 * atan2(sqrt(a), sqrt(1 - a))\n",
    "\n",
    "    return R * c  # Hasil dalam kilometer"
   ]
  },
  {
   "cell_type": "code",
   "execution_count": 49,
   "metadata": {},
   "outputs": [],
   "source": [
    "# Filter berdasarkan jarak terdekat (Haversine)\n",
    "def filter_by_distance(df, user_lat, user_lon, max_distance_km=10):\n",
    "    df['distance'] = df['coordinates'].apply(lambda coord: haversine(user_lat, user_lon, *map(float, coord.split(','))))\n",
    "    return df[df['distance'] <= max_distance_km]"
   ]
  },
  {
   "cell_type": "markdown",
   "metadata": {},
   "source": [
    "### Perhitungan Cosine Similarity"
   ]
  },
  {
   "cell_type": "code",
   "execution_count": 50,
   "metadata": {},
   "outputs": [],
   "source": [
    "# Pencarian berdasarkan nama tempat menggunakan TF-IDF dan Cosine Similarity\n",
    "def search_by_name(df, user_input):\n",
    "    tfidf_vectorizer = TfidfVectorizer()\n",
    "    tfidf_matrix = tfidf_vectorizer.fit_transform(df['name'])\n",
    "    user_input_tfidf = tfidf_vectorizer.transform([user_input])\n",
    "\n",
    "    cosine_sim = cosine_similarity(user_input_tfidf, tfidf_matrix)\n",
    "    df['similarity'] = cosine_sim[0]\n",
    "    \n",
    "    return df"
   ]
  },
  {
   "cell_type": "markdown",
   "metadata": {},
   "source": [
    "### Filterisasi Waktu Kerja (Working Day)"
   ]
  },
  {
   "cell_type": "code",
   "execution_count": 51,
   "metadata": {},
   "outputs": [],
   "source": [
    "# Filter berdasarkan waktu operasional (workday_timing)\n",
    "def filter_by_workday(df, current_time):\n",
    "    def is_open(workday_timing, current_time):\n",
    "        if workday_timing == 'Not Present' or workday_timing == 'Closed':\n",
    "            return False\n",
    "        try:\n",
    "            open_time, close_time = workday_timing.split('-')\n",
    "            open_time = datetime.strptime(open_time.strip(), '%H.%M').time()\n",
    "            close_time = datetime.strptime(close_time.strip(), '%H.%M').time()\n",
    "            return open_time <= current_time <= close_time\n",
    "        except:\n",
    "            return False\n",
    "\n",
    "    current_time = datetime.now().time()  # Ambil waktu sekarang\n",
    "    df['is_open'] = df['workday_timing'].apply(lambda x: is_open(x, current_time))\n",
    "    \n",
    "    return df[df['is_open'] == True]"
   ]
  },
  {
   "cell_type": "markdown",
   "metadata": {},
   "source": [
    "### Filterisasi Tipe Wisata"
   ]
  },
  {
   "cell_type": "code",
   "execution_count": 52,
   "metadata": {},
   "outputs": [],
   "source": [
    "# Filter berdasarkan tipe tempat wisata\n",
    "def filter_by_type(df, selected_type):\n",
    "    return df[df['types'].str.contains(selected_type, case=False, na=False)]"
   ]
  },
  {
   "cell_type": "markdown",
   "metadata": {},
   "source": [
    "## Filterisasi Umum"
   ]
  },
  {
   "cell_type": "code",
   "execution_count": 53,
   "metadata": {},
   "outputs": [],
   "source": [
    "# Mengurutkan hasil berdasarkan jarak, similarity, dan rating\n",
    "def sort_by_distance_similarity_rating(df):\n",
    "    return df.sort_values(by=['distance', 'similarity', 'rating'], ascending=[True, False, False])"
   ]
  },
  {
   "cell_type": "markdown",
   "metadata": {},
   "source": [
    "## Fungsi Rekomendasi"
   ]
  },
  {
   "cell_type": "code",
   "execution_count": 54,
   "metadata": {},
   "outputs": [],
   "source": [
    "# Main function untuk rekomendasi\n",
    "def recommend(df, user_input, user_lat, user_lon, selected_type, max_distance_km=10, top_n=5):\n",
    "    # Langkah 1: Pencarian berdasarkan nama\n",
    "    df = search_by_name(df, user_input)\n",
    "    \n",
    "    # Langkah 2: Filter berdasarkan waktu operasional\n",
    "    df = filter_by_workday(df, datetime.now().time())\n",
    "    \n",
    "    # Langkah 3: Filter berdasarkan tipe tempat\n",
    "    df = filter_by_type(df, selected_type)\n",
    "    \n",
    "    # Langkah 4: Filter berdasarkan jarak terdekat\n",
    "    df = filter_by_distance(df, user_lat, user_lon, max_distance_km)\n",
    "    \n",
    "    # Langkah 5: Urutkan berdasarkan jarak terdekat, kesamaan, dan rating tertinggi\n",
    "    df = sort_by_distance_similarity_rating(df)\n",
    "    \n",
    "    # Langkah 6: Ambil Top-N hasil\n",
    "    return df[['name', 'address', 'distance', 'workday_timing', 'rating']].head(top_n)"
   ]
  },
  {
   "cell_type": "code",
   "execution_count": 55,
   "metadata": {},
   "outputs": [
    {
     "name": "stdout",
     "output_type": "stream",
     "text": [
      "Empty DataFrame\n",
      "Columns: [name, address, distance, workday_timing, rating]\n",
      "Index: []\n"
     ]
    }
   ],
   "source": [
    "user_lat = -7.774189\n",
    "user_lon = 110.3647986\n",
    "user_input = \"Agro\"\n",
    "selected_type = \"Tourist attraction\"\n",
    "max_distance_km = 0.2\n",
    "top_n = 3\n",
    "\n",
    "# Dapatkan rekomendasi Top-N\n",
    "recommendations = recommend(fixedDf, user_input, user_lat, user_lon, selected_type, max_distance_km, top_n)\n",
    "print(recommendations)"
   ]
  }
 ],
 "metadata": {
  "kernelspec": {
   "display_name": ".venv",
   "language": "python",
   "name": "python3"
  },
  "language_info": {
   "codemirror_mode": {
    "name": "ipython",
    "version": 3
   },
   "file_extension": ".py",
   "mimetype": "text/x-python",
   "name": "python",
   "nbconvert_exporter": "python",
   "pygments_lexer": "ipython3",
   "version": "3.11.5"
  }
 },
 "nbformat": 4,
 "nbformat_minor": 2
}
