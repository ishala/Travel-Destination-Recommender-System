{
 "cells": [
  {
   "cell_type": "markdown",
   "metadata": {},
   "source": [
    "# Catatan yang Diulik\n",
    "\n",
    "1. Modality Based, mempertimbangkan kolom rating, jumlah reviews, nama tempat, tipe wisata, Waktu buka, dan koordinat\n",
    "2. Interkoneksi antar tempat wisata, dengan mempertimbangkan nilai di user. Nilai yang dimaksud misal user A pernah merating berapa di tempat A, lalu telusuri dia pernah merating dimana saja. Nanti dijadikan identitas user yang digunakan untuk rekomendasi item, tapi soft recom, tidak user based.\n",
    "\n",
    "Catatan:\n",
    "- Untuk koordinat bisa coba ulik rumus **Haversine**\n",
    "- Poin ke 2, bisa pake konsep inputan baru ke model rekomendasi, jadi inputan nnti di cross calculation dari hasil rekomendasi dari poin 1.\n",
    "- Waktu membuka website atau waktu komputer dijadikan pertimbangan rekomendasi dari nilai waktu buka di data item."
   ]
  },
  {
   "cell_type": "code",
   "execution_count": null,
   "metadata": {},
   "outputs": [],
   "source": [
    "import pandas as pd\n",
    "import numpy as np\n",
    "from sklearn.feature_extraction.text import TfidfVectorizer\n",
    "from sklearn.preprocessing import StandardScaler, OneHotEncoder\n",
    "from sklearn.metrics.pairwise import cosine_similarity\n",
    "from math import radians, sin, cos, sqrt, atan2\n",
    "from datetime import datetime\n",
    "\n",
    "fixedDf = pd.read_csv('data/fixedData.csv')\n",
    "fixedDf.info()"
   ]
  },
  {
   "cell_type": "code",
   "execution_count": null,
   "metadata": {},
   "outputs": [],
   "source": [
    "fixedDf.head()"
   ]
  },
  {
   "cell_type": "markdown",
   "metadata": {},
   "source": [
    "# Data Preparation"
   ]
  },
  {
   "cell_type": "markdown",
   "metadata": {},
   "source": [
    "## Standarisasi dan Normalisasi"
   ]
  },
  {
   "cell_type": "markdown",
   "metadata": {},
   "source": [
    "### Workday Timing"
   ]
  },
  {
   "cell_type": "code",
   "execution_count": null,
   "metadata": {},
   "outputs": [],
   "source": [
    "fixedDf.workday_timing.unique()"
   ]
  },
  {
   "cell_type": "markdown",
   "metadata": {},
   "source": [
    "## Rating"
   ]
  },
  {
   "cell_type": "code",
   "execution_count": 47,
   "metadata": {},
   "outputs": [],
   "source": [
    "# Standarisasi Kolom Rating Menggunakan Z-score\n",
    "scaler = StandardScaler()\n",
    "\n",
    "# Data 'rating' akan distandarisasi\n",
    "fixedDf['rating_scaled'] = scaler.fit_transform(fixedDf[['rating']])"
   ]
  },
  {
   "cell_type": "markdown",
   "metadata": {},
   "source": [
    "## Types"
   ]
  },
  {
   "cell_type": "markdown",
   "metadata": {},
   "source": [
    "# Model Development"
   ]
  },
  {
   "cell_type": "markdown",
   "metadata": {},
   "source": [
    "### Perhitungan Haversine (Coordinates)"
   ]
  },
  {
   "cell_type": "code",
   "execution_count": 48,
   "metadata": {},
   "outputs": [],
   "source": [
    "# Perhitungan jarak menggunakan rumus Haversine\n",
    "def haversine(lat1, lon1, lat2, lon2):\n",
    "    R = 6371.0  # Radius bumi dalam kilometer\n",
    "    lat1, lon1, lat2, lon2 = map(radians, [lat1, lon1, lat2, lon2])\n",
    "\n",
    "    dlat = lat2 - lat1\n",
    "    dlon = lon2 - lon1\n",
    "\n",
    "    a = sin(dlat / 2)**2 + cos(lat1) * cos(lat2) * sin(dlon / 2)**2\n",
    "    c = 2 * atan2(sqrt(a), sqrt(1 - a))\n",
    "\n",
    "    return R * c  # Hasil dalam kilometer"
   ]
  },
  {
   "cell_type": "code",
   "execution_count": 49,
   "metadata": {},
   "outputs": [],
   "source": [
    "# Filter berdasarkan jarak terdekat (Haversine)\n",
    "def filter_by_distance(df, user_lat, user_lon, max_distance_km=10):\n",
    "    df['distance'] = df['coordinates'].apply(lambda coord: haversine(user_lat, user_lon, *map(float, coord.split(','))))\n",
    "    return df[df['distance'] <= max_distance_km]"
   ]
  },
  {
   "cell_type": "markdown",
   "metadata": {},
   "source": [
    "### Perhitungan Cosine Similarity"
   ]
  },
  {
   "cell_type": "code",
   "execution_count": 50,
   "metadata": {},
   "outputs": [],
   "source": [
    "# Pencarian berdasarkan nama tempat menggunakan TF-IDF dan Cosine Similarity\n",
    "def search_by_name(df, user_input):\n",
    "    tfidf_vectorizer = TfidfVectorizer()\n",
    "    tfidf_matrix = tfidf_vectorizer.fit_transform(df['name'])\n",
    "    user_input_tfidf = tfidf_vectorizer.transform([user_input])\n",
    "\n",
    "    cosine_sim = cosine_similarity(user_input_tfidf, tfidf_matrix)\n",
    "    df['similarity'] = cosine_sim[0]\n",
    "    \n",
    "    return df"
   ]
  },
  {
   "cell_type": "markdown",
   "metadata": {},
   "source": [
    "### Filterisasi Waktu Kerja (Working Day)"
   ]
  },
  {
   "cell_type": "code",
   "execution_count": 51,
   "metadata": {},
   "outputs": [],
   "source": [
    "# Filter berdasarkan waktu operasional (workday_timing)\n",
    "def filter_by_workday(df, current_time):\n",
    "    def is_open(workday_timing, current_time):\n",
    "        if workday_timing == 'Not Present' or workday_timing == 'Closed':\n",
    "            return False\n",
    "        try:\n",
    "            open_time, close_time = workday_timing.split('-')\n",
    "            open_time = datetime.strptime(open_time.strip(), '%H.%M').time()\n",
    "            close_time = datetime.strptime(close_time.strip(), '%H.%M').time()\n",
    "            return open_time <= current_time <= close_time\n",
    "        except:\n",
    "            return False\n",
    "\n",
    "    current_time = datetime.now().time()  # Ambil waktu sekarang\n",
    "    df['is_open'] = df['workday_timing'].apply(lambda x: is_open(x, current_time))\n",
    "    \n",
    "    return df[df['is_open'] == True]"
   ]
  },
  {
   "cell_type": "markdown",
   "metadata": {},
   "source": [
    "### Filterisasi Tipe Wisata"
   ]
  },
  {
   "cell_type": "code",
   "execution_count": 52,
   "metadata": {},
   "outputs": [],
   "source": [
    "# Filter berdasarkan tipe tempat wisata\n",
    "def filter_by_type(df, selected_type):\n",
    "    return df[df['types'].str.contains(selected_type, case=False, na=False)]"
   ]
  },
  {
   "cell_type": "markdown",
   "metadata": {},
   "source": [
    "## Filterisasi Umum"
   ]
  },
  {
   "cell_type": "code",
   "execution_count": 53,
   "metadata": {},
   "outputs": [],
   "source": [
    "# Mengurutkan hasil berdasarkan jarak, similarity, dan rating\n",
    "def sort_by_distance_similarity_rating(df):\n",
    "    return df.sort_values(by=['distance', 'similarity', 'rating'], ascending=[True, False, False])"
   ]
  },
  {
   "cell_type": "markdown",
   "metadata": {},
   "source": [
    "## Fungsi Rekomendasi"
   ]
  },
  {
   "cell_type": "code",
   "execution_count": 54,
   "metadata": {},
   "outputs": [],
   "source": [
    "# Main function untuk rekomendasi\n",
    "def recommend(df, user_input, user_lat, user_lon, selected_type, max_distance_km=10, top_n=5):\n",
    "    # Langkah 1: Pencarian berdasarkan nama\n",
    "    df = search_by_name(df, user_input)\n",
    "    \n",
    "    # Langkah 2: Filter berdasarkan waktu operasional\n",
    "    df = filter_by_workday(df, datetime.now().time())\n",
    "    \n",
    "    # Langkah 3: Filter berdasarkan tipe tempat\n",
    "    df = filter_by_type(df, selected_type)\n",
    "    \n",
    "    # Langkah 4: Filter berdasarkan jarak terdekat\n",
    "    df = filter_by_distance(df, user_lat, user_lon, max_distance_km)\n",
    "    \n",
    "    # Langkah 5: Urutkan berdasarkan jarak terdekat, kesamaan, dan rating tertinggi\n",
    "    df = sort_by_distance_similarity_rating(df)\n",
    "    \n",
    "    # Langkah 6: Ambil Top-N hasil\n",
    "    return df[['name', 'address', 'distance', 'workday_timing', 'rating']].head(top_n)"
   ]
  },
  {
   "cell_type": "code",
   "execution_count": null,
   "metadata": {},
   "outputs": [],
   "source": [
    "user_lat = -7.774189\n",
    "user_lon = 110.3647986\n",
    "user_input = \"Agro\"\n",
    "selected_type = \"Tourist attraction\"\n",
    "max_distance_km = 0.2\n",
    "top_n = 3\n",
    "\n",
    "# Dapatkan rekomendasi Top-N\n",
    "recommendations = recommend(fixedDf, user_input, user_lat, user_lon, selected_type, max_distance_km, top_n)\n",
    "print(recommendations)"
   ]
  }
 ],
 "metadata": {
  "kernelspec": {
   "display_name": ".venv",
   "language": "python",
   "name": "python3"
  },
  "language_info": {
   "codemirror_mode": {
    "name": "ipython",
    "version": 3
   },
   "file_extension": ".py",
   "mimetype": "text/x-python",
   "name": "python",
   "nbconvert_exporter": "python",
   "pygments_lexer": "ipython3",
   "version": "3.11.5"
  }
 },
 "nbformat": 4,
 "nbformat_minor": 2
}
