{
 "cells": [
  {
   "cell_type": "markdown",
   "metadata": {},
   "source": [
    "# Get Data"
   ]
  },
  {
   "cell_type": "code",
   "execution_count": 2,
   "metadata": {},
   "outputs": [],
   "source": [
    "import pandas as pd\n",
    "import ast\n",
    "import keyboard\n",
    "\n",
    "# dataLamaPath = 'data/new-fix-data.csv'\n",
    "dataBaruPath = 'data/tempat-wisata-di-yogyakarta-overview.csv'\n",
    "dataByPlace = 'data/byPlaceData.csv'\n",
    "\n",
    "# dfOld = pd.read_csv(dataLamaPath)\n",
    "dfNew = pd.read_csv(dataBaruPath)\n",
    "\n",
    "dfByPlace = pd.read_csv(dataByPlace)"
   ]
  },
  {
   "cell_type": "code",
   "execution_count": null,
   "metadata": {},
   "outputs": [],
   "source": [
    "dfNew.head()"
   ]
  },
  {
   "cell_type": "code",
   "execution_count": null,
   "metadata": {},
   "outputs": [],
   "source": [
    "dfByPlace.head()"
   ]
  },
  {
   "cell_type": "markdown",
   "metadata": {},
   "source": [
    "# Data Assessing"
   ]
  },
  {
   "cell_type": "code",
   "execution_count": null,
   "metadata": {},
   "outputs": [],
   "source": [
    "# Data Baru\n",
    "dfNew.columns"
   ]
  },
  {
   "cell_type": "code",
   "execution_count": null,
   "metadata": {},
   "outputs": [],
   "source": [
    "dfByPlace.columns"
   ]
  },
  {
   "cell_type": "markdown",
   "metadata": {},
   "source": [
    "Data yang diambil: \n",
    "- name\n",
    "- address\n",
    "- coordinates\n",
    "- workday_timing\n",
    "- closed_on\n",
    "- reviews\n",
    "- rating\n",
    "- most_popular_times\n",
    "- popular_times\n",
    "- reviewer_name\n",
    "- rating_review\n",
    "- review_text\n",
    "- published_at_date\n",
    "- accessibility_enabled\n",
    "- planning_enabled\n",
    "- children_enabled"
   ]
  },
  {
   "cell_type": "markdown",
   "metadata": {},
   "source": [
    "## Cek Informasi Kolom"
   ]
  },
  {
   "cell_type": "markdown",
   "metadata": {},
   "source": [
    "## Merampingkan Data"
   ]
  },
  {
   "cell_type": "code",
   "execution_count": null,
   "metadata": {},
   "outputs": [],
   "source": [
    "# grpByReviewer = dfOld.groupby('name').agg({\n",
    "#     'address': lambda x: list(x),\n",
    "#     'coordinates': lambda x: list(x),\n",
    "#     'workday_timing': lambda x: list(x),\n",
    "#     'closed_on': lambda x: list(x),\n",
    "#     'reviews': lambda x: list(x),\n",
    "#     'rating': lambda x: list(x),\n",
    "#     'most_popular_times': lambda x: list(x),\n",
    "#     'popular_times': lambda x: list(x),\n",
    "#     'popular_times': lambda x: list(x),\n",
    "#     'reviewer_name': lambda x: list(x),\n",
    "#     'rating_review': lambda x: list(x),\n",
    "#     'review_text': lambda x: list(x),\n",
    "#     'published_at_date': lambda x: list(x),\n",
    "#     'accessibility_enabled': lambda x: list(x),\n",
    "#     'planning_enabled': lambda x: list(x),\n",
    "#     'children_enabled': lambda x: list(x)\n",
    "# }).reset_index()\n",
    "\n",
    "# grpByReviewer.to_csv('data/byPlaceData.csv', index=False)"
   ]
  },
  {
   "cell_type": "markdown",
   "metadata": {},
   "source": [
    "## Normalisasi Bentuk"
   ]
  },
  {
   "cell_type": "markdown",
   "metadata": {},
   "source": [
    "Percobaan"
   ]
  },
  {
   "cell_type": "code",
   "execution_count": null,
   "metadata": {},
   "outputs": [],
   "source": [
    "def process_lists_in_dataframe(df, columns_to_normalize):\n",
    "    # Loop melalui setiap kolom yang perlu dinormalisasi dalam DataFrame\n",
    "    for column in columns_to_normalize:\n",
    "        if column in df.columns:\n",
    "            # Loop melalui setiap baris dalam kolom yang relevan\n",
    "            for i in range(len(df[column])):\n",
    "                if isinstance(df[column].iloc[i], str):\n",
    "                    try:\n",
    "                        # Convert string representation of list to actual list\n",
    "                        df[column].iloc[i] = ast.literal_eval(df[column].iloc[i])\n",
    "                    except (ValueError, SyntaxError):\n",
    "                        continue\n",
    "                \n",
    "                if isinstance(df[column].iloc[i], list):\n",
    "                    # Convert list to a set to check for duplicates\n",
    "                    value_counts = pd.Series(df[column].iloc[i]).value_counts()\n",
    "                    \n",
    "                    # Check if there are any duplicates (i.e., any value count >= 2)\n",
    "                    if any(value_counts >= 1):\n",
    "                        # Replace the list with the first element\n",
    "                        df.at[i, column] = df[column].iloc[i][0]\n",
    "    \n",
    "    return df\n",
    "\n",
    "columns_to_normalize = ['address', 'coordinates', 'workday_timing', 'closed_on','rating',\n",
    "                        'reviews', 'most_popular_times', 'popular_times', \n",
    "                        'accessibility_enabled', 'planning_enabled', 'children_enabled']\n",
    "\n",
    "dfByPlace = process_lists_in_dataframe(dfByPlace, columns_to_normalize)"
   ]
  },
  {
   "cell_type": "code",
   "execution_count": null,
   "metadata": {},
   "outputs": [],
   "source": [
    "dfByPlace.head()"
   ]
  },
  {
   "cell_type": "code",
   "execution_count": null,
   "metadata": {},
   "outputs": [],
   "source": [
    "# # Percobaan 4\n",
    "\n",
    "# chunksize = 10000  # Ukuran chunks (dapat disesuaikan)\n",
    "\n",
    "# # Kolom yang berbentuk list dan perlu dipisahkan ke dalam baris yang terpisah\n",
    "# list_columns = [\n",
    "#     'coordinates', 'workday_timing', 'closed_on', 'reviews',\n",
    "#     'most_popular_times', 'popular_times', 'accessibility_enabled',\n",
    "#     'planning_enabled', 'children_enabled'\n",
    "# ]\n",
    "\n",
    "# # Membuat file output kosong\n",
    "# output_file_path = 'data/normalized_byPlaceData.csv'\n",
    "# header_written = False\n",
    "\n",
    "# # Proses per chunk\n",
    "# for chunk in pd.read_csv('data/byPlaceData.csv', chunksize=chunksize):\n",
    "#     for column in list_columns:\n",
    "#         # Memisahkan kolom yang berisi list\n",
    "#         chunk[column] = chunk[column].apply(lambda x: x.split(',') if isinstance(x, str) else [])\n",
    "#         chunk = chunk.explode(column).reset_index(drop=True)\n",
    "    \n",
    "#     # Menghapus duplikasi\n",
    "#     chunk = chunk.drop_duplicates()\n",
    "\n",
    "#     # Simpan chunk yang telah diproses ke file CSV\n",
    "#     if not header_written:\n",
    "#         chunk.to_csv(output_file_path, mode='w', index=False, header=True)\n",
    "#         header_written = True\n",
    "#     else:\n",
    "#         chunk.to_csv(output_file_path, mode='a', index=False, header=False)\n",
    "\n",
    "# print(f\"Data yang telah dinormalisasi telah disimpan di {output_file_path}\")"
   ]
  },
  {
   "cell_type": "markdown",
   "metadata": {},
   "source": [
    "## Ambil Data "
   ]
  },
  {
   "cell_type": "markdown",
   "metadata": {},
   "source": [
    "### Rating "
   ]
  },
  {
   "cell_type": "code",
   "execution_count": null,
   "metadata": {},
   "outputs": [],
   "source": [
    "iterator = 0\n",
    "\n",
    "def update_rating(data1, data2, iterator):\n",
    "    # Loop melalui setiap baris di data1\n",
    "    for idx, row in data2.iterrows():\n",
    "        # Cari baris di data2 dengan nama_wisata yang sama\n",
    "        matching_row = data1[data1['name'] == row['name']]\n",
    "        \n",
    "        if not matching_row.empty:\n",
    "            print('Ada data', row['name'])\n",
    "            # Jika ada kecocokan, perbarui jumlah_reviews di data1\n",
    "            data1.at[idx, 'rating'] = matching_row['rating'].values[0]\n",
    "            data1.at[idx, 'is_rating_updated'] = 1\n",
    "            iterator = iterator + 1\n",
    "        else:\n",
    "            print('Tidak ada data', row['name'])\n",
    "            data1.at[idx, 'is_rating_updated'] = 0\n",
    "    \n",
    "    # Kembalikan data1 yang sudah diperbarui\n",
    "    return data1, iterator\n",
    "\n",
    "updatedDf, iterator = update_rating(dfByPlace, dfNew, iterator)\n",
    "print(iterator)\n",
    "updatedDf.head()\n"
   ]
  },
  {
   "cell_type": "markdown",
   "metadata": {},
   "source": [
    "### Jumlah Reviews "
   ]
  },
  {
   "cell_type": "code",
   "execution_count": null,
   "metadata": {},
   "outputs": [],
   "source": [
    "dfOld[dfOld['name'] == 'Taman Pintar Yogyakarta'].reviews.sample(1)"
   ]
  },
  {
   "cell_type": "code",
   "execution_count": null,
   "metadata": {},
   "outputs": [],
   "source": [
    "iterator = 0\n",
    "\n",
    "def update_reviews(data1, data2, iterator):\n",
    "    # Loop melalui setiap baris di data1\n",
    "    for idx, row in data2.iterrows():\n",
    "        # Cari baris di data2 dengan nama_wisata yang sama\n",
    "        matching_row = data1[data1['name'] == row['name']]\n",
    "        \n",
    "        if not matching_row.empty:\n",
    "            print('Ada data', row['name'])\n",
    "            # Jika ada kecocokan, perbarui jumlah_reviews di data1\n",
    "            data1.at[idx, 'reviews'] = matching_row['reviews'].values[0]\n",
    "            data1.at[idx, 'is_reviews_updated'] = 1\n",
    "            iterator = iterator + 1\n",
    "        else:\n",
    "            print('Tidak ada data', row['name'])\n",
    "            data1.at[idx, 'is_reviews_updated'] = 0\n",
    "    \n",
    "    # Kembalikan data1 yang sudah diperbarui\n",
    "    return data1, iterator\n",
    "\n",
    "updatedDf, iterator = update_reviews(dfByPlace, dfNew, iterator)\n",
    "print(iterator)\n",
    "updatedDf.head()\n"
   ]
  },
  {
   "cell_type": "code",
   "execution_count": null,
   "metadata": {},
   "outputs": [],
   "source": [
    "dfByPlace.to_csv('data/byPlaceData.csv')"
   ]
  },
  {
   "cell_type": "markdown",
   "metadata": {},
   "source": [
    "# Data Cleaning"
   ]
  },
  {
   "cell_type": "markdown",
   "metadata": {},
   "source": [
    "## Duplicated Data"
   ]
  },
  {
   "cell_type": "code",
   "execution_count": 3,
   "metadata": {},
   "outputs": [
    {
     "data": {
      "text/plain": [
       "np.int64(0)"
      ]
     },
     "execution_count": 3,
     "metadata": {},
     "output_type": "execute_result"
    }
   ],
   "source": [
    "dfByPlace.duplicated().sum()"
   ]
  },
  {
   "cell_type": "markdown",
   "metadata": {},
   "source": [
    "## Data Null"
   ]
  },
  {
   "cell_type": "code",
   "execution_count": 4,
   "metadata": {},
   "outputs": [
    {
     "data": {
      "text/plain": [
       "Unnamed: 0                   0\n",
       "name                         0\n",
       "address                      0\n",
       "coordinates                  0\n",
       "workday_timing               0\n",
       "closed_on                    0\n",
       "reviews                      0\n",
       "rating                       0\n",
       "most_popular_times           0\n",
       "popular_times                0\n",
       "reviewer_name                0\n",
       "rating_review                0\n",
       "review_text                  0\n",
       "published_at_date            0\n",
       "accessibility_enabled        0\n",
       "planning_enabled             0\n",
       "children_enabled             0\n",
       "is_rating_updated        13881\n",
       "is_reviews_updated       13881\n",
       "dtype: int64"
      ]
     },
     "execution_count": 4,
     "metadata": {},
     "output_type": "execute_result"
    }
   ],
   "source": [
    "dfByPlace.isna().sum()"
   ]
  },
  {
   "cell_type": "markdown",
   "metadata": {},
   "source": [
    "## Content Selection"
   ]
  },
  {
   "cell_type": "code",
   "execution_count": 5,
   "metadata": {},
   "outputs": [
    {
     "name": "stdout",
     "output_type": "stream",
     "text": [
      "Mulai iterasi melalui setiap baris. Tekan Enter untuk mempertahankan, Backspace untuk menghapus.\n",
      "Nama:  ( Alun Alun Utara)\n",
      "Dipertahankan.\n",
      "Nama:  Embung Kladuan UII\n",
      "Dipertahankan.\n",
      "Nama:  Jembatan bok bang\n",
      "Dihapus.\n",
      "Nama:  Sendang Sari Mulyo\n",
      "Dipertahankan.\n",
      "Nama:  Stupa Buddha Dawangsari\n",
      "Dipertahankan.\n",
      "Nama:  Sumber Mata Air Bengkung\n",
      "Dipertahankan.\n",
      "Nama:  Wisata Air Kali Progo\n",
      "Dipertahankan.\n",
      "Nama:  alkid\n",
      "Dipertahankan.\n",
      "Nama: \" Wisata khayangan Watu Kendhil \"\n",
      "Dipertahankan.\n",
      "Nama: \"AOM Fishing\" Tempat Pemancingan\n",
      "Dipertahankan.\n",
      "Nama: \"Kampung Maggot\" Green Gunter Farm\n",
      "Dipertahankan.\n",
      "Nama: \"PRAMBANAN\" Spot View\n",
      "Dipertahankan.\n",
      "Nama: \"SB Enterprise\" Pekalongan\n",
      "Dipertahankan.\n",
      "Nama: \"SH\" Spot Hunting Fly over Kramasan\n",
      "Dipertahankan.\n",
      "Nama: \"Setya Jaya\" Farm \n",
      "Dipertahankan.\n",
      "Nama: \"UMBUL SEWU PENGGING\" Wahana asyik bermain air keluarga bahagia\n",
      "Dipertahankan.\n",
      "Nama: \"WILiKAH\" Wisata Lima Langkah Serading\n",
      "Dipertahankan.\n",
      "Nama: (Mangkujo) Magelang Kuda & Joglo\n",
      "Dipertahankan.\n",
      "Nama: * Kampoeng tudong *\n",
      "Dipertahankan.\n",
      "Nama: 0 Kilometer Kota Madiun\n",
      "Dipertahankan.\n",
      "Nama: 0 km Wisata offroad baturraden\n",
      "Dipertahankan.\n",
      "Nama: 0 km padang\n",
      "Dipertahankan.\n",
      "Nama: 0KM Sumbawa\n",
      "Dipertahankan.\n",
      "Nama: 27TOUR Wisata Dan Relegi\n"
     ]
    }
   ],
   "source": [
    "# Tentukan range data yang ingin diiterasi (misal: setengah dari total data)\n",
    "total_rows = len(dfByPlace)\n",
    "half_range =  10# Mengambil setengah dari total datatotal_rows // 2 \n",
    "\n",
    "# Ambil subset dari DataFrame berdasarkan range yang diinginkan\n",
    "df_subset = dfByPlace.iloc[:half_range]  # Mengambil baris dari indeks 0 hingga half_range\n",
    "\n",
    "\n",
    "# List untuk menyimpan indeks baris yang dipilih untuk dipertahankan\n",
    "rows_to_keep = []\n",
    "\n",
    "print(\"Mulai iterasi melalui setiap baris. Tekan Enter untuk mempertahankan, Backspace untuk menghapus.\")\n",
    "\n",
    "# Iterasi melalui setiap baris dalam DataFrame\n",
    "for index, row in dfByPlace.iterrows():\n",
    "    print(f\"Nama: {row['name']}\")\n",
    "\n",
    "    # Menunggu input dari keyboard\n",
    "    while True:\n",
    "        if keyboard.read_event().event_type == 'down':  # Menunggu tombol ditekan\n",
    "            if keyboard.is_pressed('enter'):\n",
    "                print(\"Dipertahankan.\")\n",
    "                rows_to_keep.append(index)  # Menyimpan indeks baris yang dipertahankan\n",
    "                break  # Keluar dari loop dan lanjutkan ke baris berikutnya\n",
    "\n",
    "            elif keyboard.is_pressed('backspace'):\n",
    "                \n",
    "                \n",
    "                print(\"Dihapus.\")\n",
    "                break  # Keluar dari loop dan lanjutkan ke baris berikutnya\n",
    "\n",
    "# Memfilter DataFrame berdasarkan baris yang dipertahankan\n",
    "dfFiltered = dfByPlace.loc[rows_to_keep]\n",
    "dfFiltered.to_csv('data/coba.csv')"
   ]
  },
  {
   "cell_type": "markdown",
   "metadata": {},
   "source": [
    "## Feature Selection"
   ]
  },
  {
   "cell_type": "code",
   "execution_count": null,
   "metadata": {},
   "outputs": [],
   "source": []
  }
 ],
 "metadata": {
  "kernelspec": {
   "display_name": ".venv",
   "language": "python",
   "name": "python3"
  },
  "language_info": {
   "codemirror_mode": {
    "name": "ipython",
    "version": 3
   },
   "file_extension": ".py",
   "mimetype": "text/x-python",
   "name": "python",
   "nbconvert_exporter": "python",
   "pygments_lexer": "ipython3",
   "version": "3.8.0"
  }
 },
 "nbformat": 4,
 "nbformat_minor": 2
}
