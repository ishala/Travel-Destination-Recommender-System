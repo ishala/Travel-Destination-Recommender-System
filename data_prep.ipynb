{
 "cells": [
  {
   "cell_type": "markdown",
   "metadata": {},
   "source": [
    "# Step By Step Pengerjaan (Deadline 3 September 2024)\n",
    "- Cocokin data byPlaceData.csv dengan scrapetable_wisata.xlsx\n",
    "- Mengubah konten menjadi bahasa indonesia, dengan mengambil data dari byPlaceData.csv\n",
    "- Data yang tidak ada di scrapetable_wisata.xlsx langsung di drop saja di byPlaceData.csv (mengurangi storage)"
   ]
  },
  {
   "cell_type": "markdown",
   "metadata": {},
   "source": [
    "# Get Data"
   ]
  },
  {
   "cell_type": "code",
   "execution_count": null,
   "metadata": {},
   "outputs": [],
   "source": [
    "import pandas as pd\n",
    "\n",
    "# dataLamaPath = 'data/new-fix-data.csv'\n",
    "dataBaruPath = 'data/scrapetable_wisata.xlsx'\n",
    "dataByPlace = 'data/byPlaceData.csv'\n",
    "\n",
    "# dfOld = pd.read_csv(dataLamaPath)\n",
    "dfNew = pd.read_excel(dataBaruPath)\n",
    "dfByPlace = pd.read_csv(dataByPlace)"
   ]
  },
  {
   "cell_type": "code",
   "execution_count": null,
   "metadata": {},
   "outputs": [],
   "source": [
    "dfNew.head()"
   ]
  },
  {
   "cell_type": "code",
   "execution_count": null,
   "metadata": {},
   "outputs": [],
   "source": [
    "dfByPlace.head()"
   ]
  }
 ],
 "metadata": {
  "kernelspec": {
   "display_name": ".venv",
   "language": "python",
   "name": "python3"
  },
  "language_info": {
   "codemirror_mode": {
    "name": "ipython",
    "version": 3
   },
   "file_extension": ".py",
   "mimetype": "text/x-python",
   "name": "python",
   "nbconvert_exporter": "python",
   "pygments_lexer": "ipython3",
   "version": "3.11.5"
  }
 },
 "nbformat": 4,
 "nbformat_minor": 2
}
