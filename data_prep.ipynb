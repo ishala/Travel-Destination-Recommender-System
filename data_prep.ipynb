{
 "cells": [
  {
   "cell_type": "markdown",
   "metadata": {},
   "source": [
    "# Get Data"
   ]
  },
  {
   "cell_type": "code",
   "execution_count": null,
   "metadata": {},
   "outputs": [],
   "source": [
    "import pandas as pd\n",
    "import ast\n",
    "\n",
    "# dataLamaPath = 'data/new-fix-data.csv'\n",
    "dataBaruPath = 'data/tempat-wisata-di-yogyakarta-overview.csv'\n",
    "dataByPlace = 'data/byPlaceData.csv'\n",
    "\n",
    "# dfOld = pd.read_csv(dataLamaPath)\n",
    "dfNew = pd.read_csv(dataBaruPath)\n",
    "\n",
    "dfByPlace = pd.read_csv(dataByPlace)"
   ]
  },
  {
   "cell_type": "code",
   "execution_count": null,
   "metadata": {},
   "outputs": [],
   "source": [
    "dfNew.head()"
   ]
  },
  {
   "cell_type": "code",
   "execution_count": null,
   "metadata": {},
   "outputs": [],
   "source": [
    "dfByPlace.head()"
   ]
  },
  {
   "cell_type": "markdown",
   "metadata": {},
   "source": [
    "# Data Assessing"
   ]
  },
  {
   "cell_type": "code",
   "execution_count": null,
   "metadata": {},
   "outputs": [],
   "source": [
    "# Data Baru\n",
    "dfNew.columns"
   ]
  },
  {
   "cell_type": "code",
   "execution_count": null,
   "metadata": {},
   "outputs": [],
   "source": [
    "dfByPlace.columns"
   ]
  },
  {
   "cell_type": "markdown",
   "metadata": {},
   "source": [
    "Data yang diambil: \n",
    "- name\n",
    "- address\n",
    "- coordinates\n",
    "- workday_timing\n",
    "- closed_on\n",
    "- reviews\n",
    "- rating\n",
    "- most_popular_times\n",
    "- popular_times\n",
    "- reviewer_name\n",
    "- rating_review\n",
    "- review_text\n",
    "- published_at_date\n",
    "- accessibility_enabled\n",
    "- planning_enabled\n",
    "- children_enabled"
   ]
  },
  {
   "cell_type": "markdown",
   "metadata": {},
   "source": [
    "## Cek Informasi Kolom"
   ]
  },
  {
   "cell_type": "markdown",
   "metadata": {},
   "source": [
    "## Merampingkan Data"
   ]
  },
  {
   "cell_type": "code",
   "execution_count": null,
   "metadata": {},
   "outputs": [],
   "source": [
    "# grpByReviewer = dfOld.groupby('name').agg({\n",
    "#     'address': lambda x: list(x),\n",
    "#     'coordinates': lambda x: list(x),\n",
    "#     'workday_timing': lambda x: list(x),\n",
    "#     'closed_on': lambda x: list(x),\n",
    "#     'reviews': lambda x: list(x),\n",
    "#     'rating': lambda x: list(x),\n",
    "#     'most_popular_times': lambda x: list(x),\n",
    "#     'popular_times': lambda x: list(x),\n",
    "#     'popular_times': lambda x: list(x),\n",
    "#     'reviewer_name': lambda x: list(x),\n",
    "#     'rating_review': lambda x: list(x),\n",
    "#     'review_text': lambda x: list(x),\n",
    "#     'published_at_date': lambda x: list(x),\n",
    "#     'accessibility_enabled': lambda x: list(x),\n",
    "#     'planning_enabled': lambda x: list(x),\n",
    "#     'children_enabled': lambda x: list(x)\n",
    "# }).reset_index()\n",
    "\n",
    "# grpByReviewer.to_csv('data/byPlaceData.csv', index=False)"
   ]
  },
  {
   "cell_type": "markdown",
   "metadata": {},
   "source": [
    "## Normalisasi Bentuk"
   ]
  },
  {
   "cell_type": "markdown",
   "metadata": {},
   "source": [
    "Percobaan"
   ]
  },
  {
   "cell_type": "code",
   "execution_count": null,
   "metadata": {},
   "outputs": [],
   "source": [
    "# def process_lists_in_dataframe(df, columns_to_normalize):\n",
    "#     # Loop melalui setiap kolom yang perlu dinormalisasi dalam DataFrame\n",
    "#     for column in columns_to_normalize:\n",
    "#         if column in df.columns:\n",
    "#             # Loop melalui setiap baris dalam kolom yang relevan\n",
    "#             for i in range(len(df[column])):\n",
    "#                 if isinstance(df[column].iloc[i], str):\n",
    "#                     try:\n",
    "#                         # Convert string representation of list to actual list\n",
    "#                         df[column].iloc[i] = ast.literal_eval(df[column].iloc[i])\n",
    "#                     except (ValueError, SyntaxError):\n",
    "#                         continue\n",
    "                \n",
    "#                 if isinstance(df[column].iloc[i], list):\n",
    "#                     # Convert list to a set to check for duplicates\n",
    "#                     value_counts = pd.Series(df[column].iloc[i]).value_counts()\n",
    "                    \n",
    "#                     # Check if there are any duplicates (i.e., any value count >= 2)\n",
    "#                     if any(value_counts >= 1):\n",
    "#                         # Replace the list with the first element\n",
    "#                         df.at[i, column] = df[column].iloc[i][0]\n",
    "    \n",
    "#     return df\n",
    "\n",
    "# columns_to_normalize = ['address', 'coordinates', 'workday_timing', 'closed_on','rating',\n",
    "#                         'reviews', 'most_popular_times', 'popular_times', \n",
    "#                         'accessibility_enabled', 'planning_enabled', 'children_enabled']\n",
    "\n",
    "# dfByPlace = process_lists_in_dataframe(dfByPlace, columns_to_normalize)"
   ]
  },
  {
   "cell_type": "markdown",
   "metadata": {},
   "source": [
    "## Ambil Data "
   ]
  },
  {
   "cell_type": "markdown",
   "metadata": {},
   "source": [
    "### Coordinates "
   ]
  },
  {
   "cell_type": "code",
   "execution_count": null,
   "metadata": {},
   "outputs": [],
   "source": [
    "def update_rating(data1, data2):\n",
    "    # Loop melalui setiap baris di data1\n",
    "    for idx, row in data1.iterrows():\n",
    "        # Cari baris di data2 dengan nama_wisata yang sama\n",
    "        matching_row = data2[data2['name'] == row['name']]\n",
    "        \n",
    "        if not matching_row.empty:\n",
    "            print('Ada data', row['name'])\n",
    "            # Jika ada kecocokan, perbarui jumlah_reviews di data1\n",
    "            data1.at[idx, 'coordinates'] = matching_row['coordinates'].values[0]\n",
    "        else:\n",
    "            print('Tidak ada data', row['name'])\n",
    "    \n",
    "    # Kembalikan data1 yang sudah diperbarui\n",
    "    return data1\n",
    "\n",
    "updatedDf = update_rating(dfNew, dfByPlace)\n",
    "updatedDf.head()\n"
   ]
  },
  {
   "cell_type": "markdown",
   "metadata": {},
   "source": [
    "### Workday Timing"
   ]
  },
  {
   "cell_type": "code",
   "execution_count": null,
   "metadata": {},
   "outputs": [],
   "source": [
    "def update_rating(data1, data2):\n",
    "    # Loop melalui setiap baris di data1\n",
    "    for idx, row in data1.iterrows():\n",
    "        # Cari baris di data2 dengan nama_wisata yang sama\n",
    "        matching_row = data2[data2['name'] == row['name']]\n",
    "        \n",
    "        if not matching_row.empty:\n",
    "            print('Ada data', row['name'])\n",
    "            # Jika ada kecocokan, perbarui jumlah_reviews di data1\n",
    "            data1.at[idx, 'workday_timing'] = matching_row['workday_timing'].values[0]\n",
    "        else:\n",
    "            print('Tidak ada data', row['name'])\n",
    "    \n",
    "    # Kembalikan data1 yang sudah diperbarui\n",
    "    return data1\n",
    "\n",
    "updatedDf = update_rating(dfNew, dfByPlace)\n",
    "updatedDf.head()\n"
   ]
  },
  {
   "cell_type": "markdown",
   "metadata": {},
   "source": [
    "### Closed On"
   ]
  },
  {
   "cell_type": "code",
   "execution_count": null,
   "metadata": {},
   "outputs": [],
   "source": [
    "def update_rating(data1, data2):\n",
    "    # Loop melalui setiap baris di data1\n",
    "    for idx, row in data1.iterrows():\n",
    "        # Cari baris di data2 dengan nama_wisata yang sama\n",
    "        matching_row = data2[data2['name'] == row['name']]\n",
    "        \n",
    "        if not matching_row.empty:\n",
    "            print('Ada data', row['name'])\n",
    "            # Jika ada kecocokan, perbarui jumlah_reviews di data1\n",
    "            data1.at[idx, 'closed_on'] = matching_row['closed_on'].values[0]\n",
    "        else:\n",
    "            print('Tidak ada data', row['name'])\n",
    "    \n",
    "    # Kembalikan data1 yang sudah diperbarui\n",
    "    return data1\n",
    "\n",
    "updatedDf = update_rating(dfNew, dfByPlace)\n",
    "updatedDf.head()\n"
   ]
  },
  {
   "cell_type": "markdown",
   "metadata": {},
   "source": [
    "### most_popular_times"
   ]
  },
  {
   "cell_type": "code",
   "execution_count": null,
   "metadata": {},
   "outputs": [],
   "source": [
    "def update_rating(data1, data2):\n",
    "    # Loop melalui setiap baris di data1\n",
    "    for idx, row in data1.iterrows():\n",
    "        # Cari baris di data2 dengan nama_wisata yang sama\n",
    "        matching_row = data2[data2['name'] == row['name']]\n",
    "        \n",
    "        if not matching_row.empty:\n",
    "            print('Ada data', row['name'])\n",
    "            # Jika ada kecocokan, perbarui jumlah_reviews di data1\n",
    "            data1.at[idx, 'most_popular_times'] = matching_row['most_popular_times'].values[0]\n",
    "        else:\n",
    "            print('Tidak ada data', row['name'])\n",
    "    \n",
    "    # Kembalikan data1 yang sudah diperbarui\n",
    "    return data1\n",
    "\n",
    "updatedDf = update_rating(dfNew, dfByPlace)\n",
    "updatedDf.head()"
   ]
  },
  {
   "cell_type": "markdown",
   "metadata": {},
   "source": [
    "### popular_times"
   ]
  },
  {
   "cell_type": "code",
   "execution_count": null,
   "metadata": {},
   "outputs": [],
   "source": [
    "def update_rating(data1, data2):\n",
    "    # Loop melalui setiap baris di data1\n",
    "    for idx, row in data1.iterrows():\n",
    "        # Cari baris di data2 dengan nama_wisata yang sama\n",
    "        matching_row = data2[data2['name'] == row['name']]\n",
    "        \n",
    "        if not matching_row.empty:\n",
    "            print('Ada data', row['name'])\n",
    "            # Jika ada kecocokan, perbarui jumlah_reviews di data1\n",
    "            data1.at[idx, 'popular_times'] = matching_row['popular_times'].values[0]\n",
    "        else:\n",
    "            print('Tidak ada data', row['name'])\n",
    "    \n",
    "    # Kembalikan data1 yang sudah diperbarui\n",
    "    return data1\n",
    "\n",
    "updatedDf = update_rating(dfNew, dfByPlace)\n",
    "updatedDf.head()"
   ]
  },
  {
   "cell_type": "markdown",
   "metadata": {},
   "source": [
    "### accessibility_enabled"
   ]
  },
  {
   "cell_type": "code",
   "execution_count": null,
   "metadata": {},
   "outputs": [],
   "source": [
    "def update_rating(data1, data2):\n",
    "    # Loop melalui setiap baris di data1\n",
    "    for idx, row in data1.iterrows():\n",
    "        # Cari baris di data2 dengan nama_wisata yang sama\n",
    "        matching_row = data2[data2['name'] == row['name']]\n",
    "        \n",
    "        if not matching_row.empty:\n",
    "            print('Ada data', row['name'])\n",
    "            # Jika ada kecocokan, perbarui jumlah_reviews di data1\n",
    "            data1.at[idx, 'accessibility_enabled'] = matching_row['accessibility_enabled'].values[0]\n",
    "        else:\n",
    "            print('Tidak ada data', row['name'])\n",
    "    \n",
    "    # Kembalikan data1 yang sudah diperbarui\n",
    "    return data1\n",
    "\n",
    "updatedDf = update_rating(dfNew, dfByPlace)\n",
    "updatedDf.head()"
   ]
  },
  {
   "cell_type": "markdown",
   "metadata": {},
   "source": [
    "### planning_enabled"
   ]
  },
  {
   "cell_type": "code",
   "execution_count": null,
   "metadata": {},
   "outputs": [],
   "source": [
    "def update_rating(data1, data2):\n",
    "    # Loop melalui setiap baris di data1\n",
    "    for idx, row in data1.iterrows():\n",
    "        # Cari baris di data2 dengan nama_wisata yang sama\n",
    "        matching_row = data2[data2['name'] == row['name']]\n",
    "        \n",
    "        if not matching_row.empty:\n",
    "            print('Ada data', row['name'])\n",
    "            # Jika ada kecocokan, perbarui jumlah_reviews di data1\n",
    "            data1.at[idx, 'planning_enabled'] = matching_row['planning_enabled'].values[0]\n",
    "        else:\n",
    "            print('Tidak ada data', row['name'])\n",
    "    \n",
    "    # Kembalikan data1 yang sudah diperbarui\n",
    "    return data1\n",
    "\n",
    "updatedDf = update_rating(dfNew, dfByPlace)\n",
    "updatedDf.head()"
   ]
  },
  {
   "cell_type": "markdown",
   "metadata": {},
   "source": [
    "### children_enabled"
   ]
  },
  {
   "cell_type": "code",
   "execution_count": null,
   "metadata": {},
   "outputs": [],
   "source": [
    "def update_rating(data1, data2):\n",
    "    # Loop melalui setiap baris di data1\n",
    "    for idx, row in data1.iterrows():\n",
    "        # Cari baris di data2 dengan nama_wisata yang sama\n",
    "        matching_row = data2[data2['name'] == row['name']]\n",
    "        \n",
    "        if not matching_row.empty:\n",
    "            print('Ada data', row['name'])\n",
    "            # Jika ada kecocokan, perbarui jumlah_reviews di data1\n",
    "            data1.at[idx, 'children_enabled'] = matching_row['children_enabled'].values[0]\n",
    "        else:\n",
    "            print('Tidak ada data', row['name'])\n",
    "    \n",
    "    # Kembalikan data1 yang sudah diperbarui\n",
    "    return data1\n",
    "\n",
    "updatedDf = update_rating(dfNew, dfByPlace)\n",
    "updatedDf.head()"
   ]
  },
  {
   "cell_type": "code",
   "execution_count": null,
   "metadata": {},
   "outputs": [],
   "source": [
    "updatedDf.to_csv('data/updated-data.csv')"
   ]
  },
  {
   "cell_type": "markdown",
   "metadata": {},
   "source": [
    "# Data Cleaning"
   ]
  },
  {
   "cell_type": "markdown",
   "metadata": {},
   "source": [
    "## Duplicated Data"
   ]
  },
  {
   "cell_type": "code",
   "execution_count": null,
   "metadata": {},
   "outputs": [],
   "source": [
    "updatedDf.duplicated().sum()"
   ]
  },
  {
   "cell_type": "markdown",
   "metadata": {},
   "source": [
    "## Data Null"
   ]
  },
  {
   "cell_type": "code",
   "execution_count": null,
   "metadata": {},
   "outputs": [],
   "source": [
    "updatedDf.isna().sum()"
   ]
  },
  {
   "cell_type": "code",
   "execution_count": null,
   "metadata": {},
   "outputs": [],
   "source": [
    "columns_to_drop = ['description', 'is_temporarily_closed', 'phone', 'review_keywords',\n",
    "                   'featured_image', 'owner_profile_link', 'owner_name', 'can_claim',\n",
    "                   'website', 'competitors', 'is_spending_on_ads']\n",
    "dfafterdrop = dfNew.drop(columns=columns_to_drop)\n",
    "\n",
    "# Tampilkan DataFrame setelah drop kolom\n",
    "print(dfafterdrop)"
   ]
  },
  {
   "cell_type": "code",
   "execution_count": null,
   "metadata": {},
   "outputs": [],
   "source": [
    "dfafterdrop.to_csv('data/data_afterdrop.csv')"
   ]
  },
  {
   "cell_type": "code",
   "execution_count": null,
   "metadata": {},
   "outputs": [],
   "source": [
    "dfafterdrop.head()"
   ]
  },
  {
   "cell_type": "markdown",
   "metadata": {},
   "source": [
    "## Feature Selection"
   ]
  },
  {
   "cell_type": "code",
   "execution_count": null,
   "metadata": {},
   "outputs": [],
   "source": []
  }
 ],
 "metadata": {
  "kernelspec": {
   "display_name": ".venv",
   "language": "python",
   "name": "python3"
  },
  "language_info": {
   "codemirror_mode": {
    "name": "ipython",
    "version": 3
   },
   "file_extension": ".py",
   "mimetype": "text/x-python",
   "name": "python",
   "nbconvert_exporter": "python",
   "pygments_lexer": "ipython3",
   "version": "3.8.0"
  }
 },
 "nbformat": 4,
 "nbformat_minor": 2
}
