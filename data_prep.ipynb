{
 "cells": [
  {
   "cell_type": "markdown",
   "metadata": {},
   "source": [
    "# Step By Step Pengerjaan (Deadline 3 September 2024)\n",
    "- Cocokin data byPlaceData.csv dengan scrapetable_wisata.xlsx\n",
    "- Mengubah konten menjadi bahasa indonesia, dengan mengambil data dari byPlaceData.csv\n",
    "- Data yang tidak ada di scrapetable_wisata.xlsx langsung di drop saja di byPlaceData.csv (mengurangi storage)"
   ]
  },
  {
   "cell_type": "markdown",
   "metadata": {},
   "source": [
    "# Data Gathering"
   ]
  },
  {
   "cell_type": "code",
   "execution_count": null,
   "metadata": {},
   "outputs": [],
   "source": [
    "import pandas as pd\n",
    "\n",
    "# dataLamaPath = 'data/new-fix-data.csv'\n",
    "dataBaruPath = 'data/scrapetable_wisata.xlsx'\n",
    "dataByPlace = 'data/byPlaceData.csv'\n",
    "dataFiltered = 'data/filtered_byPlaceData.csv'\n",
    "\n",
    "# dfOld = pd.read_csv(dataLamaPath)\n",
    "dfNew = pd.read_excel(dataBaruPath)\n",
    "dfByPlace = pd.read_csv(dataByPlace)\n",
    "dfFiltered = pd.read_csv(dataFiltered)"
   ]
  },
  {
   "cell_type": "code",
   "execution_count": null,
   "metadata": {},
   "outputs": [],
   "source": [
    "dfNew.head()"
   ]
  },
  {
   "cell_type": "code",
   "execution_count": null,
   "metadata": {},
   "outputs": [],
   "source": [
    "dfByPlace.head()"
   ]
  },
  {
   "cell_type": "markdown",
   "metadata": {},
   "source": [
    "# Data Assessing"
   ]
  },
  {
   "cell_type": "markdown",
   "metadata": {},
   "source": [
    "## Cek Info DF"
   ]
  },
  {
   "cell_type": "code",
   "execution_count": null,
   "metadata": {},
   "outputs": [],
   "source": [
    "# ByPlace\n",
    "print('By Place')\n",
    "print(dfByPlace.info())\n",
    "\n",
    "print()\n",
    "\n",
    "# new\n",
    "print('New')\n",
    "print(dfNew.info())"
   ]
  },
  {
   "cell_type": "markdown",
   "metadata": {},
   "source": [
    "## Cek Nilai Null"
   ]
  },
  {
   "cell_type": "code",
   "execution_count": null,
   "metadata": {},
   "outputs": [],
   "source": [
    "# ByPlace\n",
    "print('By Place')\n",
    "print(dfByPlace.isna().sum())\n",
    "\n",
    "print()\n",
    "\n",
    "# new\n",
    "print('New')\n",
    "print(dfNew.isna().sum())"
   ]
  },
  {
   "cell_type": "markdown",
   "metadata": {},
   "source": [
    "## Cek Nilai Duplikat"
   ]
  },
  {
   "cell_type": "code",
   "execution_count": null,
   "metadata": {},
   "outputs": [],
   "source": [
    "# ByPlace\n",
    "print('By Place')\n",
    "print(dfByPlace.duplicated().sum())\n",
    "\n",
    "print()\n",
    "\n",
    "# new\n",
    "print('New')\n",
    "print(dfNew.duplicated().sum())"
   ]
  },
  {
   "cell_type": "markdown",
   "metadata": {},
   "source": [
    "## Pemilihan Kolom Data Bu Melany"
   ]
  },
  {
   "cell_type": "code",
   "execution_count": null,
   "metadata": {},
   "outputs": [],
   "source": [
    "dfNew.head()"
   ]
  },
  {
   "cell_type": "code",
   "execution_count": null,
   "metadata": {},
   "outputs": [],
   "source": [
    "print(dfNew.latitude.sample(1))\n",
    "print(dfNew.longitude.sample(1))\n",
    "\n",
    "print(dfByPlace.coordinates.sample(1))\n",
    "print(dfByPlace.address.sample(1).values)"
   ]
  },
  {
   "cell_type": "code",
   "execution_count": null,
   "metadata": {},
   "outputs": [],
   "source": [
    "print(dfNew.timezone.unique())\n",
    "print(dfNew.review_count.sample(1))\n",
    "print(dfNew.place_id.sample(1))\n",
    "print(dfNew.city.unique())\n",
    "print(dfNew['validasi di jogja dan tetangga'].unique())"
   ]
  },
  {
   "cell_type": "markdown",
   "metadata": {},
   "source": [
    "Kolom yang diambil dr bu melany:\n",
    "- timezone\n",
    "- review_count\n",
    "- place_id\n",
    "- city\n",
    "- verified\n",
    "- Hidden_gem\n",
    "- Validasi di jogja dan tetangga"
   ]
  },
  {
   "cell_type": "markdown",
   "metadata": {},
   "source": [
    "# Data Cleaning"
   ]
  },
  {
   "cell_type": "markdown",
   "metadata": {},
   "source": [
    "## Filtering Data"
   ]
  },
  {
   "cell_type": "code",
   "execution_count": null,
   "metadata": {},
   "outputs": [],
   "source": [
    "# Convert the names in both datasets to lowercase for better matching\n",
    "dfByPlace['name'] = dfByPlace['name'].str.lower()\n",
    "dfNew['name'] = dfNew['name'].str.lower()\n",
    "\n",
    "# Filter out rows in byPlaceData that do not have a matching name in scrapetable_wisata\n",
    "filtered_data = dfByPlace[dfByPlace['name'].isin(dfNew['name'])]\n",
    "\n",
    "# Now filter based on the address containing 'Jawa Tengah', 'Central Java', or 'Yogyakarta'\n",
    "filtered_data = filtered_data[\n",
    "    filtered_data['address'].str.contains('Jawa Tengah|Central Java|Yogyakarta', case=False)\n",
    "]\n",
    "\n",
    "# Display the first few rows of the filtered data to verify\n",
    "filtered_data.head(), filtered_data.shape"
   ]
  },
  {
   "cell_type": "code",
   "execution_count": null,
   "metadata": {},
   "outputs": [],
   "source": [
    "# Save the filtered data to a new CSV file\n",
    "filtered_data_path = 'data/filtered_byPlaceData.csv'\n",
    "filtered_data.to_csv(filtered_data_path, index=False)\n",
    "\n",
    "filtered_data_path"
   ]
  },
  {
   "cell_type": "code",
   "execution_count": null,
   "metadata": {},
   "outputs": [],
   "source": [
    "dfFiltered.head()"
   ]
  }
 ],
 "metadata": {
  "kernelspec": {
   "display_name": ".venv",
   "language": "python",
   "name": "python3"
  },
  "language_info": {
   "codemirror_mode": {
    "name": "ipython",
    "version": 3
   },
   "file_extension": ".py",
   "mimetype": "text/x-python",
   "name": "python",
   "nbconvert_exporter": "python",
   "pygments_lexer": "ipython3",
   "version": "3.8.0"
  }
 },
 "nbformat": 4,
 "nbformat_minor": 2
}
