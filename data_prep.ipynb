{
 "cells": [
  {
   "cell_type": "markdown",
   "metadata": {},
   "source": [
    "# Get Data"
   ]
  },
  {
   "cell_type": "code",
   "execution_count": null,
   "metadata": {},
   "outputs": [],
   "source": [
    "import pandas as pd\n",
    "\n",
    "dataLamaPath = 'data/new-fix-data.csv'\n",
    "dataBaruPath = 'data/tempat-wisata-di-yogyakarta-overview.csv'\n",
    "dataByPlace = 'data/byPlaceData.csv'\n",
    "\n",
    "dfOld = pd.read_csv(dataLamaPath)\n",
    "dfNew = pd.read_csv(dataBaruPath)\n",
    "\n",
    "dfByPlace = pd.read_csv(dataByPlace)"
   ]
  },
  {
   "cell_type": "code",
   "execution_count": null,
   "metadata": {},
   "outputs": [],
   "source": [
    "dfOld.head()"
   ]
  },
  {
   "cell_type": "code",
   "execution_count": null,
   "metadata": {},
   "outputs": [],
   "source": [
    "dfNew.head()"
   ]
  },
  {
   "cell_type": "markdown",
   "metadata": {},
   "source": [
    "# Data Assessing"
   ]
  },
  {
   "cell_type": "code",
   "execution_count": null,
   "metadata": {},
   "outputs": [],
   "source": [
    "# Data Lama\n",
    "dfOld.columns"
   ]
  },
  {
   "cell_type": "code",
   "execution_count": null,
   "metadata": {},
   "outputs": [],
   "source": [
    "# Data Baru\n",
    "dfNew.columns"
   ]
  },
  {
   "cell_type": "code",
   "execution_count": null,
   "metadata": {},
   "outputs": [],
   "source": [
    "dfOld.reviews.iloc[0]"
   ]
  },
  {
   "cell_type": "code",
   "execution_count": null,
   "metadata": {},
   "outputs": [],
   "source": [
    "dfOld.name.iloc[0]"
   ]
  },
  {
   "cell_type": "markdown",
   "metadata": {},
   "source": [
    "Data yang diambil: \n",
    "- name\n",
    "- address\n",
    "- coordinates\n",
    "- workday_timing\n",
    "- closed_on\n",
    "- reviews\n",
    "- rating\n",
    "- most_popular_times\n",
    "- popular_times\n",
    "- reviewer_name\n",
    "- rating_review\n",
    "- review_text\n",
    "- published_at_date\n",
    "- accessibility_enabled\n",
    "- planning_enabled\n",
    "- children_enabled"
   ]
  },
  {
   "cell_type": "markdown",
   "metadata": {},
   "source": [
    "## Cek Informasi Kolom"
   ]
  },
  {
   "cell_type": "markdown",
   "metadata": {},
   "source": [
    "## Merampingkan Data"
   ]
  },
  {
   "cell_type": "code",
   "execution_count": null,
   "metadata": {},
   "outputs": [],
   "source": [
    "# grpByReviewer = dfOld.groupby('name').agg({\n",
    "#     'address': lambda x: list(x),\n",
    "#     'coordinates': lambda x: list(x),\n",
    "#     'workday_timing': lambda x: list(x),\n",
    "#     'closed_on': lambda x: list(x),\n",
    "#     'reviews': lambda x: list(x),\n",
    "#     'rating': lambda x: list(x),\n",
    "#     'most_popular_times': lambda x: list(x),\n",
    "#     'popular_times': lambda x: list(x),\n",
    "#     'popular_times': lambda x: list(x),\n",
    "#     'reviewer_name': lambda x: list(x),\n",
    "#     'rating_review': lambda x: list(x),\n",
    "#     'review_text': lambda x: list(x),\n",
    "#     'published_at_date': lambda x: list(x),\n",
    "#     'accessibility_enabled': lambda x: list(x),\n",
    "#     'planning_enabled': lambda x: list(x),\n",
    "#     'children_enabled': lambda x: list(x)\n",
    "# }).reset_index()\n",
    "\n",
    "# grpByReviewer.to_csv('data/byPlaceData.csv', index=False)"
   ]
  },
  {
   "cell_type": "markdown",
   "metadata": {},
   "source": [
    "## Normalisasi Bentuk"
   ]
  },
  {
   "cell_type": "markdown",
   "metadata": {},
   "source": [
    "## Ambil Data "
   ]
  },
  {
   "cell_type": "markdown",
   "metadata": {},
   "source": [
    "### Rating "
   ]
  },
  {
   "cell_type": "code",
   "execution_count": null,
   "metadata": {},
   "outputs": [],
   "source": []
  },
  {
   "cell_type": "markdown",
   "metadata": {},
   "source": [
    "### Jumlah Reviews "
   ]
  },
  {
   "cell_type": "code",
   "execution_count": null,
   "metadata": {},
   "outputs": [],
   "source": [
    "dfOld[dfOld['name'] == 'Taman Pintar Yogyakarta'].reviews.sample(1)"
   ]
  },
  {
   "cell_type": "code",
   "execution_count": null,
   "metadata": {},
   "outputs": [],
   "source": [
    "iterator = 0\n",
    "\n",
    "def update_reviews(data1, data2, iterator):\n",
    "    # Loop melalui setiap baris di data1\n",
    "    for idx, row in data2.iterrows():\n",
    "        # Cari baris di data2 dengan nama_wisata yang sama\n",
    "        matching_row = data1[data1['name'] == row['name']]\n",
    "        \n",
    "        if not matching_row.empty:\n",
    "            print('Ada data', row['name'])\n",
    "            # Jika ada kecocokan, perbarui jumlah_reviews di data1\n",
    "            data1.at[idx, 'reviews'] = matching_row['reviews'].values[0]\n",
    "            data1.at[idx, 'is_reviews_updated'] = 1\n",
    "            iterator = iterator + 1\n",
    "        else:\n",
    "            print('Tidak ada data', row['name'])\n",
    "            data1.at[idx, 'is_reviews_updated'] = 0\n",
    "    \n",
    "    # Kembalikan data1 yang sudah diperbarui\n",
    "    return data1, iterator\n",
    "\n",
    "updatedDf, iterator = update_reviews(dfByPlace, dfNew, iterator)\n",
    "print(iterator)\n",
    "updatedDf.head()\n"
   ]
  },
  {
   "cell_type": "code",
   "execution_count": null,
   "metadata": {},
   "outputs": [],
   "source": [
    "dfOld[dfOld['name'] == 'Taman Pintar Yogyakarta'].reviews.sample(1)"
   ]
  },
  {
   "cell_type": "markdown",
   "metadata": {},
   "source": [
    "# Data Cleaning"
   ]
  },
  {
   "cell_type": "markdown",
   "metadata": {},
   "source": [
    "## Duplicated Data"
   ]
  },
  {
   "cell_type": "code",
   "execution_count": null,
   "metadata": {},
   "outputs": [],
   "source": []
  },
  {
   "cell_type": "markdown",
   "metadata": {},
   "source": [
    "## Missing Value"
   ]
  },
  {
   "cell_type": "code",
   "execution_count": null,
   "metadata": {},
   "outputs": [],
   "source": []
  },
  {
   "cell_type": "markdown",
   "metadata": {},
   "source": [
    "## Data Null"
   ]
  },
  {
   "cell_type": "code",
   "execution_count": null,
   "metadata": {},
   "outputs": [],
   "source": []
  },
  {
   "cell_type": "markdown",
   "metadata": {},
   "source": [
    "## Feature Selection"
   ]
  },
  {
   "cell_type": "code",
   "execution_count": null,
   "metadata": {},
   "outputs": [],
   "source": []
  }
 ],
 "metadata": {
  "kernelspec": {
   "display_name": ".venv",
   "language": "python",
   "name": "python3"
  },
  "language_info": {
   "codemirror_mode": {
    "name": "ipython",
    "version": 3
   },
   "file_extension": ".py",
   "mimetype": "text/x-python",
   "name": "python",
   "nbconvert_exporter": "python",
   "pygments_lexer": "ipython3",
   "version": "3.11.5"
  }
 },
 "nbformat": 4,
 "nbformat_minor": 2
}
